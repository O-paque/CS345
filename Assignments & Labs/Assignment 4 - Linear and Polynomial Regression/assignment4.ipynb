{
 "cells": [
  {
   "cell_type": "markdown",
   "metadata": {},
   "source": [
    "## CS345 Fall 2024 Assignment 4\n"
   ]
  },
  {
   "cell_type": "code",
   "execution_count": 1,
   "metadata": {},
   "outputs": [],
   "source": [
    "import numpy as np\n",
    "from matplotlib import pyplot as plt\n",
    "import pandas as pd"
   ]
  },
  {
   "cell_type": "markdown",
   "metadata": {},
   "source": [
    "## Part 1:  Linear regression on medical insurance data\n",
    "\n",
    "### The data\n",
    "\n",
    "We will work on predicting a person's insurance charges based on a collection of features that include age, gender, body-mass-index (BMI), number of children, whether a person smokes, and the region in the US they live in.\n",
    "Since the file contains string data in addition to numeric data let's first read the file using the Python `requests` module:"
   ]
  },
  {
   "cell_type": "code",
   "execution_count": 2,
   "metadata": {},
   "outputs": [],
   "source": [
    "import requests\n",
    "# if you don't have requests installed you can use urlopen which is part\n",
    "# of the python standard library\n",
    "# from urllib.request import urlopen\n",
    "link = \"https://github.com/asabenhur/CS345/raw/master/fall22/data/insurance.csv\"\n",
    "# retrieve the contents of the file\n",
    "contents = requests.get(link)"
   ]
  },
  {
   "cell_type": "markdown",
   "metadata": {},
   "source": [
    "Let's take a look at the first five rows of the data:"
   ]
  },
  {
   "cell_type": "code",
   "execution_count": 3,
   "metadata": {},
   "outputs": [
    {
     "data": {
      "text/plain": [
       "['age,sex,bmi,children,smoker,region,charges',\n",
       " '19,female,27.9,0,yes,southwest,16884.924',\n",
       " '18,male,33.77,1,no,southeast,1725.5523',\n",
       " '28,male,33,3,no,southeast,4449.462',\n",
       " '33,male,22.705,0,no,northwest,21984.47061']"
      ]
     },
     "execution_count": 3,
     "metadata": {},
     "output_type": "execute_result"
    }
   ],
   "source": [
    "contents.text.split()[:5]"
   ]
  },
  {
   "cell_type": "markdown",
   "metadata": {},
   "source": [
    "As you can see the header specifies the names of the features:\n",
    "\n",
    "```\n",
    "age,sex,bmi,children,smoker,region,charges\n",
    "```\n",
    "\n",
    "The names are self explanatory.  We will use the last column as our label/target variable, and try to predict it from the other variables.\n",
    "\n",
    "Since the data is a mix of numerical and categorical variables, we will need to do some work to create a feature matrix from this file.\n",
    "\n",
    "This data has three types of features:\n",
    "\n",
    "* Numerical data (the age, bmi, and children features)\n",
    "* Categorical data that has one of two values (the sex and smoker features)\n",
    "* Categorical data that has more than two possible values.  The \"region\" feature has the values \"southwest\", \"southeast\", \"northwest\", and \"northeast\".\n",
    "\n",
    "Numerical data can be left as is (but will need to be standardized); binary categorical data can be converted to 0/1.  Categorical variables with more than two possible values require a different approach, which is called \"one-hot-encoding\", where each value receives its own feature, and the single categorical variable is replaced with a set of features.  The number of features equals the number of unique values that the categorical variable takes, and a categorical value is encoded as a vector of zeros, with a single value of one in the feature that corresponds to the given value.  Let us demonstrate this using the one-hot-encoder of scikit-learn on our \"region\" variable which has four possible values:"
   ]
  },
  {
   "cell_type": "code",
   "execution_count": 4,
   "metadata": {},
   "outputs": [
    {
     "data": {
      "text/plain": [
       "array([[0., 0., 0., 1.],\n",
       "       [0., 0., 1., 0.],\n",
       "       [0., 1., 0., 0.],\n",
       "       [1., 0., 0., 0.],\n",
       "       [0., 0., 1., 0.]])"
      ]
     },
     "execution_count": 4,
     "metadata": {},
     "output_type": "execute_result"
    }
   ],
   "source": [
    "from sklearn.preprocessing import OneHotEncoder\n",
    "\n",
    "# a mock dataset of regions:\n",
    "X = [['southwest'], ['southeast'], ['northwest'], ['northeast'], ['southeast']]\n",
    "# create an instance of one hot encoder\n",
    "encoder = OneHotEncoder()\n",
    "# apply it to the data:\n",
    "encoder.fit_transform(X).toarray()\n",
    "# we have converted the output of fit_transform from a sparse array\n",
    "# type to a regular NumPy array so we can easily see the values"
   ]
  },
  {
   "cell_type": "markdown",
   "metadata": {},
   "source": [
    "As you can see, the single variable was represented by four features, one for each possible value.\n",
    "\n",
    "**Note:**  In your code you may not use the scikit-learn one-hot-encoder.\n",
    "\n",
    "You might ask why not simply encode the four region values using the numbers 0-3.  The issue with doing that is that this representation imposes an order on the values, an order that does not necessarily reflect the relationship between these values in the real world."
   ]
  },
  {
   "cell_type": "markdown",
   "metadata": {},
   "source": [
    "### Your tasks\n",
    "\n",
    "Your tasks are as follows:\n",
    "\n",
    "* Create a feature matrix and labels vector from the data as described above.\n",
    "* Split the data into separate train and test sets with 30% of the data reserved for testing.\n",
    "* Evaluate the error of linear regression on the train and test sets.  In doing so, first standardize the features.  Note that not all the features should be standardized - only the age and BMI features need that, because their values are significantly larger than one.  Note that when standardizing, *only the features need to be standardized*.  The labels should remain unaltered.  This dataset can lead to a linear regression solution that suffers from numerical instabilities.  To address that, use the scikit-learn implementation of ridge regression with a very small value of the regularization parameter $\\alpha$.\n",
    "* As discussed in class, the magnitude of the components of the weight vector provide an indication of the usefulness of a feature. Based on the magnitude of the components of the weight vector, choose a subset of the features that are most useful for the regression task (note that large negative values also suggest usefulness).  Compare the error before and after removing the features with the lowest importance based on the weight vector.  Comment on your results.  Were the region features chosen?  If not, hypothesize why that is the case.\n",
    "* As a baseline, compute the error of a naive regression method that for a given regression problem always returns the mean label value.  Compare this error with the error you got using linear regression and comment on the result.  Why is computing the error of this naive method a useful thing to do?\n",
    "\n",
    "For evaluating regression error use mean asbsolute error (MAE)."
   ]
  },
  {
   "cell_type": "code",
   "execution_count": null,
   "metadata": {},
   "outputs": [],
   "source": []
  },
  {
   "cell_type": "markdown",
   "metadata": {},
   "source": [
    "## Part 2:  polynomial regression\n",
    "\n",
    "In this part we will explore polynomial regression using the [California housing dataset](https://scikit-learn.org/stable/modules/generated/sklearn.datasets.fetch_california_housing.html#sklearn.datasets.fetch_california_housing), which is distributed with scikit-learn."
   ]
  },
  {
   "cell_type": "code",
   "execution_count": 5,
   "metadata": {},
   "outputs": [],
   "source": [
    "from sklearn.datasets import fetch_california_housing\n",
    "data = fetch_california_housing()\n",
    "X = data.data\n",
    "y = data.target"
   ]
  },
  {
   "cell_type": "markdown",
   "metadata": {},
   "source": [
    "A complete description of the dataset and its features is contained in the `DESCR` attribute of the dataset:\n",
    "\n",
    "```python\n",
    "print(data.DESCR)\n",
    "```\n",
    "\n",
    "Let's plot a histogram of the labels:"
   ]
  },
  {
   "cell_type": "code",
   "execution_count": 6,
   "metadata": {},
   "outputs": [
    {
     "data": {
      "image/png": "[encoded data removed]",
      "text/plain": [
       "<Figure size 400x400 with 1 Axes>"
      ]
     },
     "metadata": {},
     "output_type": "display_data"
    }
   ],
   "source": [
    "plt.figure(figsize=(4,4))\n",
    "plt.hist(y, bins=50);"
   ]
  },
  {
   "cell_type": "markdown",
   "metadata": {},
   "source": [
    "Here is your task:\n",
    "\n",
    "* Compute the MAE of polynomial basis regression as a function of the degree of the monomials for the Boston housing dataset.  Start with degree equal to 1, i.e. using the features as-is, and compute the error for monomials with degrees 1 to 6.  In each case compute error for both the training set, and a separate test set.  Report the results as a nicely formatted table and comment on what you observe:  is there overfitting or underfitting?  We recommend using the scikit-learn [PolynomialFeatures](https://scikit-learn.org/stable/modules/generated/sklearn.preprocessing.PolynomialFeatures.html) functionality in conjunction with the [pipeline](https://scikit-learn.org/stable/modules/generated/sklearn.pipeline.Pipeline.html) class as shown in class.  Standardize the data for this task by including standardization as part of the pipeline.  Standardization should be performed before computing the monomials.\n",
    "* For degree four monomials your model should exhibit overfitting.  Our next step is to see whether we can improve the results by employing regularized linear regression, ie. ridge regression.  Plot the error of ridge regression using degree four monomial data as a function of the regularization parameter $\\alpha$ for both the training set and test set.  Is there a value of $\\alpha$ for which you are able to obtain test set error that is similar or better than the error of linear regression on the original data?  Comment on your plot, and describe where you are observing overfitting and underfitting.\n",
    "* As a baseline, compute the error of a naive regression method that for a given regression problem always returns the mean label value.  Compare this error with the error you got using the best performing model and comment on the result.\n"
   ]
  },
  {
   "cell_type": "code",
   "execution_count": null,
   "metadata": {},
   "outputs": [],
   "source": []
  },
  {
   "cell_type": "markdown",
   "metadata": {},
   "source": [
    "### Part 3:  Use of AI and web resources\n",
    "\n",
    "In the cell below indicate in detail how you used AI and other web resources for this assignment.  If you used AI tools, indicate how useful they were."
   ]
  },
  {
   "cell_type": "markdown",
   "metadata": {},
   "source": [
    "*your answer here*"
   ]
  },
  {
   "cell_type": "markdown",
   "metadata": {},
   "source": [
    "### Your Report\n",
    "\n",
    "Answer the questions in the cells reserved for that purpose.\n",
    "\n",
    "### Submission\n",
    "\n",
    "Submit your report as a Jupyter notebook via Canvas.  Running the notebook should generate all the plots in your notebook.\n",
    "\n",
    "### Grading \n",
    "\n",
    "\n",
    "```\n",
    "Grading sheet for assignment 4\n",
    "\n",
    "Part 1:  50 points.\n",
    "Dataset creation:  all the features were correctly converted to \n",
    "numerical values and the BMI and age values were standardized (15 pts)\n",
    "Evaluation of linear regression (15 pts)\n",
    "Feature selection based on weight vector magnitude, including discussion of the choice of features (15 pts)\n",
    "Comparison to the basline model and explanation why it is important (5 pts)\n",
    "\n",
    "Part 2:  50 points.\n",
    "Train/test accuracy as a function of the degree of polynomial \n",
    "regression and discussion of results (20 pts)\n",
    "Successful application of ridge regression to prevent overfitting and discussion of results (25 pts)\n",
    "Comparison to the basline model (5 pts)\n",
    "```\n",
    "\n",
    "Grading will be based on the following criteria:\n",
    "\n",
    "  * Code correctness.\n",
    "  * Code is well organized.\n",
    "  * Plots and other results are well formatted and easy to understand.\n",
    "  * Interesting and meaningful observations made where requested."
   ]
  }
 ],
 "metadata": {
  "kernelspec": {
   "display_name": "Python 3 (ipykernel)",
   "language": "python",
   "name": "python3"
  },
  "language_info": {
   "codemirror_mode": {
    "name": "ipython",
    "version": 3
   },
   "file_extension": ".py",
   "mimetype": "text/x-python",
   "name": "python",
   "nbconvert_exporter": "python",
   "pygments_lexer": "ipython3",
   "version": "3.11.7"
  },
  "vscode": {
   "interpreter": {
    "hash": "93336a7f7438c515cb85586a730006d01b259bdf0f19a18be521102e41eab284"
   }
  }
 },
 "nbformat": 4,
 "nbformat_minor": 4
}
