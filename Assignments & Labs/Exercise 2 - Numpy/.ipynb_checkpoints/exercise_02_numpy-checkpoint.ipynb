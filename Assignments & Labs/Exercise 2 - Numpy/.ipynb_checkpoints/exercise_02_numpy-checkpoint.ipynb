{
 "cells": [
  {
   "cell_type": "markdown",
   "metadata": {},
   "source": [
    "# CS 345 Exercise 02:  NumPy\n",
    "\n",
    "Solve the following exercises and submit the notebook via Canvas.\n",
    "\n",
    "Everything you need for solving these exercises is contained in the [introduction to NumPy](https://github.com/asabenhur/CS345/blob/master/fall24/notebooks/module00_03_numpy.ipynb) notebook from the course github repository."
   ]
  },
  {
   "cell_type": "code",
   "execution_count": 3,
   "metadata": {},
   "outputs": [],
   "source": [
    "import numpy as np"
   ]
  },
  {
   "cell_type": "markdown",
   "metadata": {},
   "source": [
    "### NaN and infinity\n",
    "\n",
    "NumPy (and other computer languages/libraries) have a special value called `NaN` ([Not a Number](https://en.wikipedia.org/wiki/NaN)).\n",
    "NaN is the result of various arithmetic operations, e.g. 0/0, $-\\infty + \\infty$.\n",
    "\n",
    "In NumPy, NaN is represented as `np.nan`.  NaN satisfies the following properties:\n",
    "\n",
    "* Comparisons of NaN with a number x using one of the operators =, <, >, >=, and <= is always False.  Consequently, x != NaN is always True.\n",
    "\n",
    "* Any arithmetic operation involving a NaN leads to a NaN \n",
    "\n",
    "Infinity is represented using `np.inf`, and negative infinity is `-np.inf`.\n",
    "\n",
    "* Experiment with NaN and infinity and convince yourself that the results of the following operations make sense to you:\n",
    "\n",
    "```Pytnon\n",
    "0 * np.nan\n",
    "np.nan == np.nan\n",
    "np.inf > np.nan\n",
    "np.nan - 1\n",
    "```"
   ]
  },
  {
   "cell_type": "code",
   "execution_count": 41,
   "metadata": {},
   "outputs": [
    {
     "data": {
      "text/plain": [
       "nan"
      ]
     },
     "execution_count": 41,
     "metadata": {},
     "output_type": "execute_result"
    }
   ],
   "source": [
    "0 * np.nan\n",
    "np.nan == np.nan\n",
    "np.inf > np.nan\n",
    "np.nan - 1"
   ]
  },
  {
   "cell_type": "markdown",
   "metadata": {},
   "source": [
    "### Creating arrays"
   ]
  },
  {
   "cell_type": "markdown",
   "metadata": {},
   "source": [
    "* Create a 3x3 matrix with the integer values from 0 to 8.  We recommend doing this by creating a one dimensional array and converting it to a two dimensional array using the [reshape](https://numpy.org/doc/stable/reference/generated/numpy.reshape.html) function.  Please do not solve this by brute force!"
   ]
  },
  {
   "cell_type": "code",
   "execution_count": 68,
   "metadata": {},
   "outputs": [
    {
     "data": {
      "text/plain": [
       "array([[0, 1, 2],\n",
       "       [3, 4, 5],\n",
       "       [6, 7, 8]])"
      ]
     },
     "execution_count": 68,
     "metadata": {},
     "output_type": "execute_result"
    }
   ],
   "source": [
    "matrix = np.arange(9).reshape((3,3))\n",
    "matrix"
   ]
  },
  {
   "cell_type": "markdown",
   "metadata": {},
   "source": [
    "* Create the same 3x3 matrix and have the end result be a floating point array with a dtype `float64`."
   ]
  },
  {
   "cell_type": "code",
   "execution_count": 80,
   "metadata": {},
   "outputs": [
    {
     "data": {
      "text/plain": [
       "(array([[0., 1., 2.],\n",
       "        [3., 4., 5.],\n",
       "        [6., 7., 8.]]),\n",
       " dtype('float64'))"
      ]
     },
     "execution_count": 80,
     "metadata": {},
     "output_type": "execute_result"
    }
   ],
   "source": [
    "matrix = np.arange(9, dtype=np.float64).reshape((3,3))\n",
    "matrix, matrix.dtype"
   ]
  },
  {
   "cell_type": "markdown",
   "metadata": {},
   "source": [
    "* Create a vector (i.e. one dimensional array) of length 10 with random floating point values between 0 and 1."
   ]
  },
  {
   "cell_type": "code",
   "execution_count": 90,
   "metadata": {},
   "outputs": [
    {
     "name": "stdout",
     "output_type": "stream",
     "text": [
      "Length:  10\n",
      "Shape:  (10,)\n"
     ]
    },
    {
     "data": {
      "text/plain": [
       "array([0.95600171, 0.20768181, 0.82844489, 0.14928212, 0.51280462,\n",
       "       0.1359196 , 0.68903648, 0.84174772, 0.425509  , 0.956926  ])"
      ]
     },
     "execution_count": 90,
     "metadata": {},
     "output_type": "execute_result"
    }
   ],
   "source": [
    "from numpy.random import default_rng\n",
    "rng = default_rng(10)\n",
    "vector = rng.random(10)\n",
    "print(\"Length: \", len(vector))\n",
    "print(\"Shape: \", vector.shape)\n",
    "vector"
   ]
  },
  {
   "cell_type": "markdown",
   "metadata": {},
   "source": [
    "* Create a 10x10 array with 1 on the border and 0 inside."
   ]
  },
  {
   "cell_type": "code",
   "execution_count": 122,
   "metadata": {},
   "outputs": [
    {
     "data": {
      "text/plain": [
       "array([[1, 1, 1, 1, 1, 1, 1, 1, 1, 1],\n",
       "       [1, 0, 0, 0, 0, 0, 0, 0, 0, 1],\n",
       "       [1, 0, 0, 0, 0, 0, 0, 0, 0, 1],\n",
       "       [1, 0, 0, 0, 0, 0, 0, 0, 0, 1],\n",
       "       [1, 0, 0, 0, 0, 0, 0, 0, 0, 1],\n",
       "       [1, 0, 0, 0, 0, 0, 0, 0, 0, 1],\n",
       "       [1, 0, 0, 0, 0, 0, 0, 0, 0, 1],\n",
       "       [1, 0, 0, 0, 0, 0, 0, 0, 0, 1],\n",
       "       [1, 0, 0, 0, 0, 0, 0, 0, 0, 1],\n",
       "       [1, 1, 1, 1, 1, 1, 1, 1, 1, 1]])"
      ]
     },
     "execution_count": 122,
     "metadata": {},
     "output_type": "execute_result"
    }
   ],
   "source": [
    "x = np.array([1,1,1,1,1,1,1,1,1,1])\n",
    "y = np.array([1,0,0,0,0,0,0,0,0,1])\n",
    "z = np.vstack([x,y,y,y,y,y,y,y,y,x])\n",
    "z"
   ]
  },
  {
   "cell_type": "markdown",
   "metadata": {},
   "source": [
    "* For an integer $n$, create an array of length $3n$ filled with the cyclic pattern 1, 2, 3.  For example, for $n=2$, the resulting array should be ```[1,2,3,1,2,3]```.  Hint:  slices!"
   ]
  },
  {
   "cell_type": "code",
   "execution_count": 263,
   "metadata": {},
   "outputs": [
    {
     "data": {
      "text/plain": [
       "array([1, 2, 3, 1, 2, 3, 1, 2, 3, 1, 2, 3], dtype=int64)"
      ]
     },
     "execution_count": 263,
     "metadata": {},
     "output_type": "execute_result"
    }
   ],
   "source": [
    "n = 4\n",
    "\n",
    "result = np.zeros(n * 3, dtype=np.int64)\n",
    "result[: n*3 : 3] = 1\n",
    "result[1: n*3 : 3] = 2\n",
    "result[2: n*3 : 3] = 3\n",
    "result"
   ]
  },
  {
   "cell_type": "markdown",
   "metadata": {},
   "source": [
    "### Slices\n",
    "\n",
    "Describe the effect of each of the following slices of the following two-dimensional array, i.e. matrix:\n",
    "\n",
    "```Python\n",
    "a2d = np.array([[1, 2, 3], [4, 5, 6], [7, 8, 9]])\n",
    "```\n",
    "\n",
    "Describe it in terms of rows and columns of the matrix.  As an example consider the following slice:\n"
   ]
  },
  {
   "cell_type": "markdown",
   "metadata": {},
   "source": [
    "Slice 1:\n",
    "```Python\n",
    "a2d[0]\n",
    "```"
   ]
  },
  {
   "cell_type": "markdown",
   "metadata": {},
   "source": [
    "*answer:  the first row of the matrix*  \n",
    "\n",
    "This is an example to illustrate what we are looking for."
   ]
  },
  {
   "cell_type": "markdown",
   "metadata": {},
   "source": [
    "Slice 2:\n",
    "```Python\n",
    "a2d[1, :2]\n",
    "```"
   ]
  },
  {
   "cell_type": "markdown",
   "metadata": {},
   "source": [
    "*answer: the values of the second row of the matrix up to but excluding the second index*"
   ]
  },
  {
   "cell_type": "markdown",
   "metadata": {},
   "source": [
    "Slice 3:\n",
    "```Python\n",
    "a2d[:, -1]\n",
    "```"
   ]
  },
  {
   "cell_type": "markdown",
   "metadata": {},
   "source": [
    "*answer: the value of each row's -1 index*"
   ]
  },
  {
   "cell_type": "markdown",
   "metadata": {},
   "source": [
    "Slice 4:\n",
    "```Python\n",
    "a2d[:, 1:]\n",
    "```"
   ]
  },
  {
   "cell_type": "markdown",
   "metadata": {},
   "source": [
    "*answer: all the values in each row starting at the second index*"
   ]
  },
  {
   "cell_type": "markdown",
   "metadata": {},
   "source": [
    "Slice 5:\n",
    "```Python\n",
    "a2d[:,:]\n",
    "```"
   ]
  },
  {
   "cell_type": "markdown",
   "metadata": {},
   "source": [
    "*answer: all values in the matrix*"
   ]
  },
  {
   "cell_type": "markdown",
   "metadata": {},
   "source": [
    "### Using NumPy Boolean arrays\n",
    "\n",
    "* Replace all negative elements of the following array with the value 0.  This can be done with a single command! (Hint:  Boolean indexing)."
   ]
  },
  {
   "cell_type": "code",
   "execution_count": 219,
   "metadata": {},
   "outputs": [
    {
     "data": {
      "text/plain": [
       "array([0, 3, 0, 0, 5, 6, 0])"
      ]
     },
     "execution_count": 219,
     "metadata": {},
     "output_type": "execute_result"
    }
   ],
   "source": [
    "a = np.array([-1, 3, -2, -3, 5, 6, -2])\n",
    "a[a < 0] = 0\n",
    "a"
   ]
  },
  {
   "cell_type": "markdown",
   "metadata": {},
   "source": [
    "* Write a command that replaces all NaN values with 0 in the following array.  Use [np.isnan](https://numpy.org/doc/stable/reference/generated/numpy.isnan.html) with Boolean indexing."
   ]
  },
  {
   "cell_type": "code",
   "execution_count": 239,
   "metadata": {},
   "outputs": [
    {
     "data": {
      "text/plain": [
       "array([1., 2., 3., 0., 5., 6., 7., 0.])"
      ]
     },
     "execution_count": 239,
     "metadata": {},
     "output_type": "execute_result"
    }
   ],
   "source": [
    "a = np.array([1,2,3,np.nan,5,6,7,np.nan])\n",
    "a[np.isnan(a)] = 0\n",
    "a"
   ]
  },
  {
   "cell_type": "markdown",
   "metadata": {},
   "source": [
    "### Computing data statistics\n",
    "\n",
    "* Given the two dimensional array bellow, write code to compute the mean value of each column and display the result.  *Do not use for loops!*  Instead, use the `axis` keyword of `np.mean`."
   ]
  },
  {
   "cell_type": "code",
   "execution_count": 243,
   "metadata": {},
   "outputs": [
    {
     "data": {
      "text/plain": [
       "array([10.54666667,  9.73666667, 14.13      , 10.41333333, 13.10166667])"
      ]
     },
     "execution_count": 243,
     "metadata": {},
     "output_type": "execute_result"
    }
   ],
   "source": [
    "# computing column means of a 2d array.  You can use the following\n",
    "# array as input.  Keep in mind that the result needs to be an array\n",
    "# with 5 elements (same as the number of columns of the array)\n",
    "\n",
    "a = np.array([[17.53, 18.55, 18.18, 10.8 , 10.08],\n",
    "       [ 6.64, 15.78, 14.51, 12.4 , 14.6 ],\n",
    "       [14.67,  2.02, 10.34,  3.79,  6.73],\n",
    "       [12.61,  5.4 , 19.07, 13.76, 15.39],\n",
    "       [ 1.82,  7.79,  5.41, 20.  , 18.17],\n",
    "       [10.01,  8.88, 17.27,  1.73, 13.64]])\n",
    "\n",
    "a.mean(axis=0)\n"
   ]
  },
  {
   "cell_type": "markdown",
   "metadata": {},
   "source": [
    "### A slicing challenge\n",
    "\n",
    "Here's a more challenging exercise that you can solve using slices:\n",
    "\n",
    "* Create a 8x8 matrix that looks like this:\n",
    "\n",
    "```Python\n",
    "[[0 1 0 1 0 1 0 1]                                                      \n",
    " [1 0 1 0 1 0 1 0]                                                      \n",
    " [0 1 0 1 0 1 0 1]                                                      \n",
    " [1 0 1 0 1 0 1 0]                                                      \n",
    " [0 1 0 1 0 1 0 1]                                                      \n",
    " [1 0 1 0 1 0 1 0]                                                      \n",
    " [0 1 0 1 0 1 0 1]                                                      \n",
    " [1 0 1 0 1 0 1 0]]\n",
    "```\n",
    "\n",
    "Hint:  even and odd numbered rows each are filled with the same pattern.\n"
   ]
  },
  {
   "cell_type": "code",
   "execution_count": 249,
   "metadata": {},
   "outputs": [
    {
     "name": "stdout",
     "output_type": "stream",
     "text": [
      "[[0. 0. 0. 0. 0. 0. 0. 0.]\n",
      " [0. 0. 0. 0. 0. 0. 0. 0.]\n",
      " [0. 0. 0. 0. 0. 0. 0. 0.]\n",
      " [0. 0. 0. 0. 0. 0. 0. 0.]\n",
      " [0. 0. 0. 0. 0. 0. 0. 0.]\n",
      " [0. 0. 0. 0. 0. 0. 0. 0.]\n",
      " [0. 0. 0. 0. 0. 0. 0. 0.]\n",
      " [0. 0. 0. 0. 0. 0. 0. 0.]]\n"
     ]
    },
    {
     "data": {
      "text/plain": [
       "array([[0., 1., 0., 1., 0., 1., 0., 1.],\n",
       "       [1., 0., 1., 0., 1., 0., 1., 0.],\n",
       "       [0., 1., 0., 1., 0., 1., 0., 1.],\n",
       "       [1., 0., 1., 0., 1., 0., 1., 0.],\n",
       "       [0., 1., 0., 1., 0., 1., 0., 1.],\n",
       "       [1., 0., 1., 0., 1., 0., 1., 0.],\n",
       "       [0., 1., 0., 1., 0., 1., 0., 1.],\n",
       "       [1., 0., 1., 0., 1., 0., 1., 0.]])"
      ]
     },
     "execution_count": 249,
     "metadata": {},
     "output_type": "execute_result"
    }
   ],
   "source": [
    "matrix = np.zeros((8,8))\n",
    "print(matrix)\n",
    "matrix[::2, 1::2] = 1\n",
    "matrix[1::2, ::2] = 1\n",
    "matrix"
   ]
  },
  {
   "cell_type": "code",
   "execution_count": null,
   "metadata": {},
   "outputs": [],
   "source": []
  }
 ],
 "metadata": {
  "kernelspec": {
   "display_name": "Python 3 (ipykernel)",
   "language": "python",
   "name": "python3"
  },
  "language_info": {
   "codemirror_mode": {
    "name": "ipython",
    "version": 3
   },
   "file_extension": ".py",
   "mimetype": "text/x-python",
   "name": "python",
   "nbconvert_exporter": "python",
   "pygments_lexer": "ipython3",
   "version": "3.12.4"
  }
 },
 "nbformat": 4,
 "nbformat_minor": 4
}
