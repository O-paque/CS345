{
 "cells": [
  {
   "cell_type": "markdown",
   "metadata": {
    "id": "kfEczu4uXOrD"
   },
   "source": [
    "# CS 345 Exercise 3: labeled data \n",
    "\n",
    "**Instructions:** Complete the exercises in this notebook and submit it via Canvas.\n",
    "\n",
    "In this exercise, you are will gain experience in generating synthetic data and observing their different characteristics. To begin the goal is to create a labeled dataset in two dimensions using the sklearn function [make_classification](https://scikit-learn.org/stable/modules/generated/sklearn.datasets.make_classification.html#sklearn.datasets.make_classification)."
   ]
  },
  {
   "cell_type": "code",
   "execution_count": 3,
   "metadata": {
    "id": "qmMYvMdgY1Yw"
   },
   "outputs": [],
   "source": [
    "import matplotlib.pyplot as plt\n",
    "from sklearn.datasets import make_classification\n",
    "import numpy as np"
   ]
  },
  {
   "cell_type": "markdown",
   "metadata": {
    "id": "D_CiGKLFZA5c"
   },
   "source": [
    "### Labeled data in two dimensions\n",
    "\n",
    "In this part, you are going to generate labeled datasets with different characteristics by tuning the parameters in the scikit-learn **make_classification** function.\n"
   ]
  },
  {
   "cell_type": "markdown",
   "metadata": {
    "id": "gFkEVHuDXOrJ"
   },
   "source": [
    "In Cell 02, create a labeled two dimensional dataset using `make_classification`.  Use the following parameters to call `make_classification` and visualize the resulting dataset using Matplotlib's [scatter](https://matplotlib.org/stable/api/_as_gen/matplotlib.pyplot.scatter.html) function.\n",
    "Make sure that data points are colored by the class label as we did in the following notebook on [labeled data](https://github.com/asabenhur/CS345/blob/master/fall24/notebooks/module01_01_labeled_data.ipynb)."
   ]
  },
  {
   "cell_type": "code",
   "execution_count": 6,
   "metadata": {
    "colab": {
     "base_uri": "https://localhost:8080/",
     "height": 497
    },
    "id": "AyfTzmgRZK3X",
    "outputId": "4c1f440b-8188-4877-ed46-cdb039421538"
   },
   "outputs": [],
   "source": [
    "# Code Cell 02\n",
    "n_samples = 100\n",
    "n_features=2\n",
    "n_informative=2\n",
    "n_redundant=0\n",
    "n_repeated=0\n",
    "n_classes=2\n",
    "n_clusters_per_class=1\n",
    "class_sep=0.3\n",
    "flip_y=0\n",
    "shuffle=False\n",
    "random_state=1\n",
    "# call make_classification with these parameters\n",
    "\n",
    "X,y = make_classification(n_samples=n_samples, n_features=n_features,\n",
    "                          n_informative=n_informative,n_redundant=n_redundant,\n",
    "                          n_repeated=n_repeated, n_classes=n_classes,\n",
    "                          n_clusters_per_class=n_clusters_per_class,\n",
    "                          class_sep=class_sep, flip_y=flip_y, shuffle=shuffle,\n",
    "                          random_state=random_state)\n",
    "\n",
    "# your task:  create a scatter plot of the data\n"
   ]
  },
  {
   "cell_type": "markdown",
   "metadata": {
    "id": "1SS3Je-FXOrK"
   },
   "source": [
    "### Class separation\n",
    "\n",
    "The parameter `class_sep` controls the separation of the classes, and hence changes the difficulty of the classification task. The data points can be easily separable when having a higher class separation.\n",
    "\n",
    "In Cell 03, create a labeled two dimensional dataset by using the function `make_classification`. Please keep all the key variable unchanged except **class_sep**. Set it to the lowest value that will guarantee perfect classification.\n",
    "Plot the data by using a **scatter plot** as you did previously."
   ]
  },
  {
   "cell_type": "code",
   "execution_count": 8,
   "metadata": {
    "colab": {
     "base_uri": "https://localhost:8080/",
     "height": 422
    },
    "id": "MeqG1Z7IaffI",
    "outputId": "2bf77282-e83f-452a-d978-edd785cffadf"
   },
   "outputs": [],
   "source": [
    "# Code Cell 03\n",
    "n_samples = 100\n",
    "n_features=2\n",
    "n_informative=2\n",
    "n_redundant=0\n",
    "n_repeated=0\n",
    "n_classes=2\n",
    "n_clusters_per_class=1\n",
    "# modify the class_sep parameter to obtain data that can be perfectly\n",
    "# classified\n",
    "class_sep=0.3\n",
    "flip_y=0\n",
    "shuffle=False\n",
    "random_state=1\n",
    "\n",
    "X,y = make_classification(n_samples=n_samples, n_features=n_features,\n",
    "                          n_informative=n_informative,n_redundant=n_redundant,\n",
    "                          n_repeated=n_repeated, n_classes=n_classes,\n",
    "                          n_clusters_per_class=n_clusters_per_class,\n",
    "                          class_sep=class_sep, flip_y=flip_y, shuffle=shuffle,\n",
    "                          random_state=random_state)\n",
    "\n",
    "# create a scatter plot of the data\n",
    "\n"
   ]
  },
  {
   "cell_type": "markdown",
   "metadata": {
    "id": "YTabZFLKXOrL"
   },
   "source": [
    "In the next code cell we look at the effect of the `weights` parameter of `make_classification`.\n",
    "In Cell 04, use the following parameter values to set up your dataset and visualize it using a scatter plot.  How does this parameter affect the resulting dataset?  "
   ]
  },
  {
   "cell_type": "code",
   "execution_count": 10,
   "metadata": {
    "colab": {
     "base_uri": "https://localhost:8080/",
     "height": 457
    },
    "id": "MC_k0vUebqeX",
    "outputId": "b58c42e8-e68a-49ff-e6db-dd5fe0950d11"
   },
   "outputs": [],
   "source": [
    "# Code Cell 04\n",
    "n_samples = 100\n",
    "n_features=2\n",
    "n_informative=2\n",
    "n_redundant=0\n",
    "n_repeated=0\n",
    "n_classes=2\n",
    "n_clusters_per_class=1\n",
    "class_sep=0.5\n",
    "flip_y=0\n",
    "shuffle=False\n",
    "weights=[0.9,0.1] \n",
    "random_state=1\n",
    "\n",
    "# call make classification\n",
    "\n",
    "# create a scatter plot of the data\n"
   ]
  },
  {
   "cell_type": "markdown",
   "metadata": {},
   "source": [
    "How did the **weights** parameter affect the resulting dataset?  What is the default value? (I.e., what happens when we don't provide a value).\n",
    "\n",
    "*your answer here*"
   ]
  },
  {
   "cell_type": "markdown",
   "metadata": {
    "id": "7c7wYgNTXOrM"
   },
   "source": [
    "In the next cell, the focus is on the parameter **flip_y**.  Use the following parameters to set up your dataset and plot the data by using a scatter plot.  "
   ]
  },
  {
   "cell_type": "code",
   "execution_count": 13,
   "metadata": {
    "colab": {
     "base_uri": "https://localhost:8080/",
     "height": 422
    },
    "id": "gEd9LwOTcz-g",
    "outputId": "106c4161-85b5-40bd-e3a7-af246ea6d56a"
   },
   "outputs": [],
   "source": [
    "# Code Cell 05\n",
    "n_samples = 100\n",
    "n_features=2\n",
    "n_informative=2\n",
    "n_redundant=0\n",
    "n_repeated=0\n",
    "n_classes=2\n",
    "n_clusters_per_class=1\n",
    "class_sep=0.7\n",
    "flip_y=0.2\n",
    "shuffle=False\n",
    "random_state=1\n",
    "\n",
    "# call make classification\n",
    "\n",
    "X,y = make_classification(n_samples=n_samples, n_features=n_features,\n",
    "                          n_informative=n_informative,n_redundant=n_redundant,\n",
    "                          n_repeated=n_repeated, n_classes=n_classes,\n",
    "                          n_clusters_per_class=n_clusters_per_class,\n",
    "                          class_sep=class_sep, flip_y=flip_y, shuffle=shuffle,\n",
    "                          random_state=random_state)\n",
    "\n",
    "# create a scatter plot of the data\n"
   ]
  },
  {
   "cell_type": "markdown",
   "metadata": {},
   "source": [
    "What does the parameter **flip_y** do?  What kind of real-world situation does this parameter simulate?\n",
    "\n",
    "*your answer here*"
   ]
  }
 ],
 "metadata": {
  "colab": {
   "collapsed_sections": [],
   "name": "Exercise_02_answer.ipynb",
   "provenance": []
  },
  "kernelspec": {
   "display_name": "Python 3 (ipykernel)",
   "language": "python",
   "name": "python3"
  },
  "language_info": {
   "codemirror_mode": {
    "name": "ipython",
    "version": 3
   },
   "file_extension": ".py",
   "mimetype": "text/x-python",
   "name": "python",
   "nbconvert_exporter": "python",
   "pygments_lexer": "ipython3",
   "version": "3.12.4"
  }
 },
 "nbformat": 4,
 "nbformat_minor": 4
}
