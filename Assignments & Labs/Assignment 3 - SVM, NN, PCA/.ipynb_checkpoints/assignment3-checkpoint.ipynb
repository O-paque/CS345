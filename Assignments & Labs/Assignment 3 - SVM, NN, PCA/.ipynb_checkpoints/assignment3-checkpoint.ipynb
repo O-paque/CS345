{
 "cells": [
  {
   "cell_type": "markdown",
   "metadata": {},
   "source": [
    "## CS345 Fall 2024 Assignment 3"
   ]
  },
  {
   "cell_type": "markdown",
   "metadata": {},
   "source": [
    "\n",
    "### Datasets\n",
    "\n",
    "* The [QSAR](http://archive.ics.uci.edu/ml/datasets/QSAR+biodegradation) data for predicting the biochemical activity of a molecule.\n",
    "* The [Wisconsin breast cancer wisconsin dataset](http://scikit-learn.org/stable/modules/generated/sklearn.datasets.load_breast_cancer.html#sklearn.datasets.load_breast_cancer).\n",
    "  "
   ]
  },
  {
   "cell_type": "markdown",
   "metadata": {},
   "source": [
    "## Part 1:  choosing optimal hyperparameters\n",
    "\n",
    "Just about any machine learning algorithm has some **hyperparameters**.  These are parameters that are set by the user and are not determined as part of the training process.\n",
    "The perceptron for example, has two of those - the number of epochs and the learning rate.  For the k-nearest neighbor classifier (kNN) it's the number of neighbors, $k$, and for the linear SVM it's the soft margin constant, $C$.  Our objective in machine learning is to obtain classifiers with high accuracy, and have good estimates of how well they are performing.  In other words, we need to know how accurate a classifier would be on unseen data.  This is why we use separate test sets that the classifier has not seen for evaluating accuracy.\n",
    "\n",
    "When working with classifiers with hyperparameters you may be tempted to apply the following procedure:\n",
    "\n",
    "* Randomly split the data into separate train and test sets.\n",
    "* Loop over a list of candidate values for the hyperparameter.\n",
    "* For each value, train the classifier over the training set and evaluate its accuracy on the test set.\n",
    "* Choose the parameter value that maximizes the accuracy over the test set, and report the accuracy that you obtained.\n",
    "\n",
    "However, it turns out that this procedure is flawed, and the resulting accuracy estimate can be overly optimistic.  This is because the choice of the best performing parameter value used information about the test set: by selecting the best value according to accuracy on the test set, we use information about the labels of the test set.  Therefore, the predicted labels are based on information regarding the labels of the test set, making it so this is no longer an independent test set.\n",
    "\n",
    "Here is a better approach.  Rather than splitting the data into train and test sets, we will now split the data into three sets:  **training, validation, and test**.  The validation set will be used for evaluation of different values of the hyperparameter, leading to the following approach:\n",
    "\n",
    "* Randomly split the data into separate train, validation, and test sets (say with ratios of 0.5, 0.2, 0.3).\n",
    "* Loop over a list of candidate values for the hyperparameter.\n",
    "* For each value, train the classifier over the **training set** and evaluate its accuracy on the **validation set**. \n",
    "* Choose the best classifier, and report its accuracy over the **test set**.\n",
    "\n",
    "Your task is as follows:\n",
    "\n",
    "* Use the method described above to evaluate the accuracy of the kNN classifier over the QSAR and Wisconsin breast cancer dataset.  When iterating over the hyperparameter value $k$, use a wide range of values.  Repeat the process ten times for different data splits and report the average accuracy over the test set and the value of $k$ that was chosen most often for each dataset.  The result should be in the form of a table that shows average accuracy and most common hyperparameter value for each dataset.  We recommend using pandas to display nicely formatted tables as suggested in assignment 2.  Note that the optimal value of $k$ may vary for different splits.  Comment on your results.\n",
    "\n",
    "* Perform the same experiment for the linear SVM. In this case the soft-margin constant $C$ is the hyperparameter that requires an informed choice.  Use a wide range of values for $C$, as we have done in class.  Comment on your results.\n",
    "\n",
    "In your code, use the scikit-learn kNN and SVM implementations; you can also use the scikit-learn `train_test_split`.  When using scikit-learn's [SVC](https://scikit-learn.org/stable/modules/generated/sklearn.svm.SVC.html) class, make sure to provide the parameter `kernel=\"linear\"` so that the the resulting SVM is indeed linear; alternatively, use the [LinearSVC](https://scikit-learn.org/stable/modules/generated/sklearn.svm.LinearSVC.html) class."
   ]
  },
  {
   "cell_type": "code",
   "execution_count": 77,
   "metadata": {},
   "outputs": [
    {
     "name": "stdout",
     "output_type": "stream",
     "text": [
      "(278, 31) (120, 31) (171, 31)\n",
      "[0.8916666666666667, 0.8666666666666667, 0.9166666666666666, 0.9166666666666666, 0.9083333333333333, 0.9, 0.8833333333333333, 0.8916666666666667, 0.8666666666666667, 0.6583333333333333, 0.9083333333333333, 0.9, 0.9333333333333333, 0.9416666666666667, 0.95, 0.9416666666666667, 0.9333333333333333, 0.9083333333333333, 0.8666666666666667, 0.8416666666666667, 0.95, 0.9416666666666667, 0.9666666666666667, 0.975, 0.9666666666666667, 0.9583333333333334, 0.9166666666666666, 0.95, 0.925, 0.8833333333333333, 0.925, 0.9, 0.925, 0.9416666666666667, 0.9583333333333334, 0.9583333333333334, 0.9333333333333333, 0.9333333333333333, 0.9083333333333333, 0.6666666666666666, 0.9083333333333333, 0.9166666666666666, 0.925, 0.925, 0.9333333333333333, 0.925, 0.9083333333333333, 0.9166666666666666, 0.875, 0.6416666666666667, 0.9, 0.8916666666666667, 0.8916666666666667, 0.9583333333333334, 0.9416666666666667, 0.9333333333333333, 0.9166666666666666, 0.925, 0.8416666666666667, 0.775, 0.9166666666666666, 0.9333333333333333, 0.925, 0.9, 0.8916666666666667, 0.8833333333333333, 0.8583333333333333, 0.8416666666666667, 0.8333333333333334, 0.5666666666666667, 0.9666666666666667, 0.9333333333333333, 0.9333333333333333, 0.925, 0.9583333333333334, 0.95, 0.9333333333333333, 0.9333333333333333, 0.9, 0.65, 0.9083333333333333, 0.9166666666666666, 0.9166666666666666, 0.925, 0.9, 0.9083333333333333, 0.8916666666666667, 0.8666666666666667, 0.8416666666666667, 0.7916666666666666, 0.9166666666666666, 0.8833333333333333, 0.9583333333333334, 0.9416666666666667, 0.9416666666666667, 0.9416666666666667, 0.9166666666666666, 0.9416666666666667, 0.8666666666666667, 0.7916666666666666]\n",
      "0.975\n"
     ]
    }
   ],
   "source": [
    "# your code here\n",
    "import numpy as np\n",
    "import pandas as pd\n",
    "from matplotlib import pylab as plt\n",
    "from sklearn.datasets import load_breast_cancer\n",
    "from sklearn.model_selection import train_test_split\n",
    "from sklearn.neighbors import KNeighborsClassifier\n",
    "\n",
    "def load_qsar():\n",
    "    qsar_filename='data/biodeg.csv'\n",
    "\n",
    "    X = pd.read_csv(qsar_filename).values\n",
    "    X = X.astype(str)\n",
    "    X = np.array([row[0].split(';') for row in X])\n",
    "    \n",
    "    y = X[:,41]\n",
    "    y[y == 'RB'] = 1\n",
    "    y[y == 'NRB'] = -1\n",
    "    y = y.astype(np.int64)\n",
    "    \n",
    "    X = np.delete(X, 41, 1)\n",
    "    X = X.astype(np.float64)\n",
    "    \n",
    "    return X, y\n",
    "\n",
    "def load_cancer():\n",
    "    # use the scikit-learn data loader\n",
    "    data = load_breast_cancer()\n",
    "    X = data.data\n",
    "    y = data.target\n",
    "    y = y * 2 - 1\n",
    "    X = np.hstack([X, np.ones((len(X), 1))])\n",
    "    return X, y\n",
    "\n",
    "\n",
    "\n",
    "X, y = load_cancer()\n",
    "\n",
    "\n",
    "\n",
    "\n",
    "neighbors = [1,2,4,8,12,16,32,64,128,200]\n",
    "accuracy = []\n",
    "best_parameter = []\n",
    "\n",
    "print(X_train.shape, X_valid.shape, X_test.shape)\n",
    "\n",
    "for i in range(10):\n",
    "    X_train, X_test, y_train, y_test = train_test_split(X, y, test_size=0.30, shuffle=True)\n",
    "    X_train, X_valid, y_train, y_valid = train_test_split(X_train, y_train, test_size=0.30, shuffle=True)\n",
    "    for k in neighbors:\n",
    "        kNN = KNeighborsClassifier(k)\n",
    "        kNN.fit(X_train, y_train)\n",
    "        y_pred = kNN.predict(X_valid)\n",
    "        accuracy.append(np.sum(y_pred == y_valid)/len(y_valid))\n",
    "    \n",
    "\n",
    "print(accuracy)\n",
    "print(np.max(accuracy))\n",
    "\n"
   ]
  },
  {
   "cell_type": "markdown",
   "metadata": {},
   "source": [
    "**and space for discussing your results**"
   ]
  },
  {
   "cell_type": "markdown",
   "metadata": {},
   "source": [
    "## Part 2:  PCA for removing noise from data\n",
    "\n",
    "As we have seen in class, the accuracy of the nearest neighbor classifer degrades when the data has noisy features that are not relevant to the classification problem.  To remedy this problem, we will use PCA to reduce the dimensionality of the data.\n",
    "\n",
    "Here is what you need to do:\n",
    "\n",
    "* **Classifier accuracy with and without noise**.  Use the QSAR dataset and evaluate the accuracy of the K nearest neighbors and SVM classifiers.  For simplicity, choose the values of K and $C$ that you selected in part 1.  In your experiments, standardize the dataset.  Next, add 1,000 noise features and evaluate model accuracy after doing so (use the better performing dataset between standardized / non-standardized dataset as your starting point).\n",
    "\n",
    "* **Note:** here is a code snippet for generating noise with a Gaussian distribution:\n",
    "```Python\n",
    "# generate a matrix of \"noise\" features of size N x d\n",
    "# each component of the matrix will have a normal (Gaussian) distribution\n",
    "# with mean of 0 and standard deviation equal to 0.5\n",
    "rng = np.random.default_rng(seed)\n",
    "X_noise = rng.normal(0, 0.5, size=(N, d))\n",
    "```\n",
    "\n",
    "* **Can PCA improve accuracy on noisy data?**  Next, we will see if PCA can improve the accuracy of the classifier on the data we added noise to.  Use PCA to represent the noise-added data in the space of the principal components.  Make sure the data is centered or standardized before applying PCA.  (Recall that centering refers to subtracting the mean from each feature, making it so that each feature has a mean of 0).  Note that the noise features do not need to be standardized!  Evaluate the accuracy of the KNN and SVM classifiers as you vary the number of principal components (no need to go above the original dimensionality of the dataset when doing so).  Plot the accuracy of each classifier on the test set as you vary the number of components.\n",
    "* **Discussion**.  Discuss your results:  was PCA useful for improving classifier accuracy?  Which of the two classifiers appears to be more robust to noise?  Why do you think that is the case?\n"
   ]
  },
  {
   "cell_type": "code",
   "execution_count": null,
   "metadata": {},
   "outputs": [],
   "source": [
    "# your code"
   ]
  },
  {
   "cell_type": "markdown",
   "metadata": {},
   "source": [
    "**Discussion of your results**"
   ]
  },
  {
   "cell_type": "markdown",
   "metadata": {},
   "source": [
    "### Code organization\n",
    "\n",
    "Both tasks in this assignment require you to run a particular experiment over multiple classifiers, datasets, or pre-processing steps.  In writing your code refrain from repeating the code over and over again.  To achieve that, decompose the task such that your code is modular and concise.  Not only will your code be more readable and elegant, this will also enable you to be more productive."
   ]
  },
  {
   "cell_type": "markdown",
   "metadata": {},
   "source": [
    "### Part 3:  Use of AI and other web resources\n",
    "\n",
    "In the cell below indicate in detail how you used AI and other web resources for this assignment.  If you used AI tools, indicate how useful they were."
   ]
  },
  {
   "cell_type": "markdown",
   "metadata": {},
   "source": [
    "*Your answer here*"
   ]
  },
  {
   "cell_type": "markdown",
   "metadata": {},
   "source": [
    "### Your Report\n",
    "\n",
    "Answer the questions in the cells reserved for that purpose.\n",
    "\n",
    "### Submission\n",
    "\n",
    "Submit your report as a Jupyter notebook via Canvas.  Running the notebook should generate all the plots in your notebook.\n",
    "\n",
    "### Grading \n",
    "\n",
    "```\n",
    "Grading sheet for assignment 3\n",
    "\n",
    "Part 1:  50 points\n",
    "Model selection code for SVM/KNN (40 pts)\n",
    "Discussion of your results (5 pts)\n",
    "Code organization (5 pts)\n",
    "\n",
    "Part 2:  50 points\n",
    "Baseline SVM/KNN accuracy (10 pt)\n",
    "SVM/KNN accuracy as a function of number of PCs (25 pts)\n",
    "Discussion of your results (10 pt)\n",
    "Code organization (5 pts)\n",
    "\n",
    "Make sure you address your use of AI and web resources\n",
    "```\n",
    "\n",
    "Grading should be based on the following criteria:\n",
    "\n",
    "  * Code correctness.\n",
    "  * Code organization.  You code is well organized without unnecessary duplication.\n",
    "  * Plots and other results are well formatted and easy to understand.\n",
    "  * Interesting and meaningful observations made where requested.\n",
    "  * Notebook is readable, well-organized, and concise.\n",
    "  \n"
   ]
  }
 ],
 "metadata": {
  "kernelspec": {
   "display_name": "Python 3 (ipykernel)",
   "language": "python",
   "name": "python3"
  },
  "language_info": {
   "codemirror_mode": {
    "name": "ipython",
    "version": 3
   },
   "file_extension": ".py",
   "mimetype": "text/x-python",
   "name": "python",
   "nbconvert_exporter": "python",
   "pygments_lexer": "ipython3",
   "version": "3.12.4"
  }
 },
 "nbformat": 4,
 "nbformat_minor": 4
}
