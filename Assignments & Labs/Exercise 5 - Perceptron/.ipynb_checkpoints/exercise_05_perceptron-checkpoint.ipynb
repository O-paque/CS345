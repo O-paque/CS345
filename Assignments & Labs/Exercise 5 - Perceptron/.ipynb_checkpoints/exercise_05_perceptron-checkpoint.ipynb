{
 "cells": [
  {
   "cell_type": "markdown",
   "id": "7add3fa7",
   "metadata": {},
   "source": [
    "# Exercise 5:  The perceptron\n",
    "\n",
    "In this notebook you will explore the perceptron algorithm.  For all questions use the scikit-learn [breast cancer dataset](https://scikit-learn.org/stable/modules/generated/sklearn.datasets.load_breast_cancer.html) and use the implementation of the perceptron we looked at in class.\n",
    "\n",
    "\n",
    "### Part 1: number of epochs\n",
    "\n",
    "Explore the accuracy of the perceptron on the breast cancer dataset while varying the number of epochs that the perceptron is trained.  Measure accuracy on both the training and test sets and plot the results as a function of number of epochs (best to use a logarithmic axis for the x-axis, using plt.semilogx).  What can you conclude?\n"
   ]
  },
  {
   "cell_type": "code",
   "execution_count": 4,
   "id": "e286c179-2ecd-4bf8-9ad5-944820512e93",
   "metadata": {},
   "outputs": [],
   "source": [
    "import matplotlib.pyplot as plt\n",
    "import numpy as np\n",
    "from sklearn.datasets import load_breast_cancer\n",
    "from sklearn.model_selection import train_test_split\n",
    "\n",
    "class perceptron :\n",
    "    \"\"\"An implementation of the perceptron algorithm.\n",
    "    Note that this implementation does not include a bias term\"\"\"\n",
    " \n",
    "    def __init__(self, iterations=100, learning_rate=0.2, \n",
    "                 plot_data=False, random_w=False, seed=42) :\n",
    "        self.iterations = iterations\n",
    "        self.learning_rate = learning_rate\n",
    "        self.plot_data = plot_data\n",
    "        self.random_w = random_w\n",
    "        self.seed = seed\n",
    "  \n",
    "    def fit(self, X, y) :\n",
    "        \"\"\"\n",
    "        Train a classifier using the perceptron training algorithm.\n",
    "        After training the attribute 'w' will contain the perceptron weight vector.\n",
    " \n",
    "        Parameters\n",
    "        ----------\n",
    " \n",
    "        X : ndarray, shape (num_examples, n_features)\n",
    "        Training data.\n",
    " \n",
    "        y : ndarray, shape (n_examples,)\n",
    "        Array of labels.\n",
    " \n",
    "        \"\"\"\n",
    "        \n",
    "        if self.random_w :\n",
    "            rng = np.random.default_rng(self.seed)\n",
    "            self.w = rng.uniform(-1 , 1, len(X[0]))\n",
    "            print(\"initialized with random weight vector\")\n",
    "        else :\n",
    "            self.w = np.zeros(len(X[0]))\n",
    "            print(\"initialized with a zeros weight vector\")\n",
    "        self.wold = self.w\n",
    "        converged = False\n",
    "        iteration = 0\n",
    "        while (not converged and iteration <= self.iterations) :\n",
    "            converged = True\n",
    "            for i in range(len(X)) :\n",
    "                if y[i] * self.decision_function(X[i]) <= 0 :\n",
    "                    self.wold = self.w\n",
    "                    self.w = self.w + y[i] * self.learning_rate * X[i]\n",
    "                    converged = False\n",
    "                    if self.plot_data:\n",
    "                        self.plot_update(X, y, i)\n",
    "            iteration += 1\n",
    "        self.converged = converged\n",
    "        if converged :\n",
    "            print ('converged in %d iterations ' % iteration)\n",
    " \n",
    "    def decision_function(self, x) :\n",
    "        return np.dot(x, self.w)\n",
    " \n",
    "    def predict(self, X) :\n",
    "        \"\"\"\n",
    "        make predictions using a trained linear classifier\n",
    " \n",
    "        Parameters\n",
    "        ----------\n",
    "        X : ndarray, shape (num_examples, n_features)\n",
    "        Training data.\n",
    "        \"\"\"\n",
    "        scores = np.dot(X, self.w)\n",
    "        return np.sign(scores)\n",
    "    \n",
    "    def plot_update(self, X, y, ipt) :\n",
    "        fig = plt.figure(figsize=(4,4))\n",
    "        plt.xlim(-1,1)\n",
    "        plt.ylim(-1,1)\n",
    "        plt.xlabel(\"Feature 1\")\n",
    "        plt.ylabel(\"Feature 2\")\n",
    "        plt.arrow(0,0,self.w[0],self.w[1], \n",
    "                  width=0.001,head_width=0.05, \n",
    "                  length_includes_head=True, alpha=1,\n",
    "                  linestyle='-',color='darkred')\n",
    "        plt.arrow(0,0,self.wold[0],self.wold[1], \n",
    "                  width=0.001,head_width=0.05, \n",
    "                  length_includes_head=True, alpha=1,\n",
    "                  linestyle='-',color='orange')\n",
    "        anew = -self.w[0]/self.w[1]\n",
    "        pts = np.linspace(-1,1)\n",
    "        plt.plot(pts, anew*pts, color='darkred')\n",
    "        if self.wold[1] != 0 :\n",
    "            aold = -self.wold[0]/self.wold[1]\n",
    "            plt.plot(pts, aold*pts, color='orange')\n",
    "        plt.title(\"in orange:  old w; in red:  new w\")\n",
    "        cols = {1: 'g', -1: 'b'}\n",
    "        for i in range(len(X)): \n",
    "            plt.plot(X[i][0], X[i][1], cols[y[i]]+'o', alpha=0.6,markersize=5) \n",
    "        plt.plot(X[ipt][0], X[ipt][1], 'ro', alpha=0.2,markersize=15)\n",
    " "
   ]
  },
  {
   "cell_type": "code",
   "execution_count": 12,
   "id": "5b67fdcd",
   "metadata": {},
   "outputs": [
    {
     "name": "stdout",
     "output_type": "stream",
     "text": [
      "Perceptron with  2  iterations:\n",
      "initialized with a zeros weight vector\n",
      "accuracy:  0.6023391812865497 \n",
      "\n",
      "Perceptron with  5  iterations:\n",
      "initialized with a zeros weight vector\n",
      "accuracy:  0.9298245614035088 \n",
      "\n",
      "Perceptron with  10  iterations:\n",
      "initialized with a zeros weight vector\n",
      "accuracy:  0.9298245614035088 \n",
      "\n",
      "Perceptron with  20  iterations:\n",
      "initialized with a zeros weight vector\n",
      "accuracy:  0.9239766081871345 \n",
      "\n",
      "Perceptron with  40  iterations:\n",
      "initialized with a zeros weight vector\n",
      "accuracy:  0.8538011695906432 \n",
      "\n",
      "Perceptron with  100  iterations:\n",
      "initialized with a zeros weight vector\n",
      "accuracy:  0.8362573099415205 \n",
      "\n",
      "Perceptron with  200  iterations:\n",
      "initialized with a zeros weight vector\n",
      "accuracy:  0.8654970760233918 \n",
      "\n",
      "Perceptron with  500  iterations:\n",
      "initialized with a zeros weight vector\n",
      "accuracy:  0.8421052631578947 \n",
      "\n",
      "Perceptron with  1000  iterations:\n",
      "initialized with a zeros weight vector\n",
      "accuracy:  0.7485380116959064 \n",
      "\n",
      "Perceptron with  2000  iterations:\n",
      "initialized with a zeros weight vector\n",
      "accuracy:  0.8011695906432749 \n",
      "\n",
      "Perceptron with  4000  iterations:\n",
      "initialized with a zeros weight vector\n",
      "accuracy:  0.9122807017543859 \n",
      "\n"
     ]
    },
    {
     "data": {
      "image/png": "[encoded data removed]",
      "text/plain": [
       "<Figure size 640x480 with 1 Axes>"
      ]
     },
     "metadata": {},
     "output_type": "display_data"
    }
   ],
   "source": [
    "num_epochs = [2, 5, 10, 20, 40, 100, 200, 500, 1000, 2000, 4000]\n",
    "data = load_breast_cancer()\n",
    "X = data.data\n",
    "y = data.target\n",
    "\n",
    "y = y * 2 - 1\n",
    "X = np.hstack([X, np.ones((len(X), 1))])\n",
    "\n",
    "results = np.array([])\n",
    "\n",
    "for e in num_epochs:\n",
    "    print(\"Perceptron with \", e, \" iterations:\")\n",
    "    X_train, X_test, y_train, y_test = train_test_split(X, y, test_size=0.3, random_state=5)\n",
    "    p = perceptron(iterations = e, learning_rate = 0.1)\n",
    "    p.fit(X_train, y_train)\n",
    "    y_pred = p.predict(X_test)\n",
    "    accuracy = np.mean(y_test == y_pred)\n",
    "    print('accuracy: ', accuracy, \"\\n\")\n",
    "    results = np.append(results, [accuracy])\n",
    "\n",
    "plt.semilogx(num_epochs, results);"
   ]
  },
  {
   "cell_type": "markdown",
   "id": "9e5a1570",
   "metadata": {},
   "source": [
    "### Part 2\n",
    "\n",
    "Can you tell if the breast cancer dataset is linearly separable?"
   ]
  },
  {
   "cell_type": "markdown",
   "id": "10977994",
   "metadata": {},
   "source": [
    "I would guess that the data is not linearly separable since we never reach convergence even on the longest # of epochs. This is a high dimension (30) space, which may be difficult for the perceptron algorithm to classify the dataset correctly."
   ]
  },
  {
   "cell_type": "code",
   "execution_count": 6,
   "id": "be4698fe",
   "metadata": {},
   "outputs": [],
   "source": [
    "# and if you want to have some code"
   ]
  },
  {
   "cell_type": "markdown",
   "id": "f094f7a4",
   "metadata": {},
   "source": [
    "### Part 3: the learning rate\n",
    "\n",
    "How does the learning rate affect the accuracy of the perceptron?\n",
    "To address this question, plot training and test accuracy as a function of the learning rate.\n",
    "Again, use plt.semilogx for the x-axis to have a logarithmic scale for the x-axis."
   ]
  },
  {
   "cell_type": "code",
   "execution_count": 47,
   "id": "b27f05f6",
   "metadata": {},
   "outputs": [
    {
     "name": "stdout",
     "output_type": "stream",
     "text": [
      "Perceptron with  1e-05  learning rate:\n",
      "initialized with a zeros weight vector\n",
      "accuracy:  0.8362573099415205 \n",
      "\n",
      "Perceptron with  0.001  learning rate:\n",
      "initialized with a zeros weight vector\n",
      "accuracy:  0.8362573099415205 \n",
      "\n",
      "Perceptron with  0.01  learning rate:\n",
      "initialized with a zeros weight vector\n",
      "accuracy:  0.8362573099415205 \n",
      "\n",
      "Perceptron with  0.1  learning rate:\n",
      "initialized with a zeros weight vector\n",
      "accuracy:  0.8362573099415205 \n",
      "\n",
      "Perceptron with  1  learning rate:\n",
      "initialized with a zeros weight vector\n",
      "accuracy:  0.8362573099415205 \n",
      "\n"
     ]
    },
    {
     "data": {
      "image/png": "[encoded data removed]",
      "text/plain": [
       "<Figure size 640x480 with 1 Axes>"
      ]
     },
     "metadata": {},
     "output_type": "display_data"
    }
   ],
   "source": [
    "learning_rates = [0.00001, 0.001, 0.01, 0.1, 1]\n",
    "\n",
    "\n",
    "results = np.array([])\n",
    "\n",
    "for l in learning_rates:\n",
    "    print(\"Perceptron with \", l, \" learning rate:\")\n",
    "    X_train, X_test, y_train, y_test = train_test_split(X, y, test_size=0.3, random_state=5)\n",
    "    p = perceptron(learning_rate = l)\n",
    "    p.fit(X_train, y_train)\n",
    "    y_pred = p.predict(X_test)\n",
    "    accuracy = np.mean(y_test == y_pred)\n",
    "    print('accuracy: ', accuracy, \"\\n\")\n",
    "    results = np.append(results, [accuracy])\n",
    "\n",
    "plt.semilogx(learning_rates, results);"
   ]
  },
  {
   "cell_type": "markdown",
   "id": "8737876d-a507-4bb9-aa84-fcaaa9e49bd0",
   "metadata": {},
   "source": [
    "I would say that the learning rate has no effect on the accuracy of the perceptron, but I may have coded it incorrectly and am not getting the results I am supposed to be seeing."
   ]
  },
  {
   "cell_type": "code",
   "execution_count": null,
   "id": "7baf4129-bbcd-4557-944a-69b9bd9df4ee",
   "metadata": {},
   "outputs": [],
   "source": []
  }
 ],
 "metadata": {
  "kernelspec": {
   "display_name": "Python 3 (ipykernel)",
   "language": "python",
   "name": "python3"
  },
  "language_info": {
   "codemirror_mode": {
    "name": "ipython",
    "version": 3
   },
   "file_extension": ".py",
   "mimetype": "text/x-python",
   "name": "python",
   "nbconvert_exporter": "python",
   "pygments_lexer": "ipython3",
   "version": "3.12.4"
  }
 },
 "nbformat": 4,
 "nbformat_minor": 5
}
