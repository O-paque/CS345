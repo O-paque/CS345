{
 "cells": [
  {
   "cell_type": "markdown",
   "metadata": {},
   "source": [
    "## Exercise  09:  NumPy practice\n",
    "\n",
    "The objective of this exercise is to practice your NumPy skills."
   ]
  },
  {
   "cell_type": "code",
   "execution_count": 6,
   "metadata": {},
   "outputs": [],
   "source": [
    "import numpy as np"
   ]
  },
  {
   "cell_type": "markdown",
   "metadata": {},
   "source": [
    "### Counting zeros\n",
    "\n",
    "For a 1-d array $x$, we'll define its `number_of_zeros` as the number of elements in the array that are equal to zero.\n",
    "For example, for the array \n",
    "\n",
    "```Python\n",
    "[1, 5, 0, 6, 0, 1]\n",
    "```\n",
    "\n",
    "The `number_of_zeros` is equal to 2.\n",
    "\n",
    "We can apply `number_of_zeros` to a matrix $X$ (i.e. a 2-d array).\n",
    "The definition can be applied either to the columns or rows of the matrix, resulting in an array of `number_of_zeros` values for each column/row.  Your task is to write a function that computes `number_of_zeros` for a 2-d array.  You may not use the NumPy functions count_nonzero, nonzero, and argwhere.\n",
    "\n",
    "For example, for the matrix\n",
    "```Python\n",
    "2 0 3 0\n",
    "0 0 1 5\n",
    "0 0 0 6\n",
    "```\n",
    "\n",
    "when applied to the columns, the result should be an array that contains the numbers\n",
    "\n",
    "```Python\n",
    "2 3 1 1\n",
    "```\n",
    "\n",
    "when applied to the rows the result should be an array that contains the numbers\n",
    "\n",
    "```Python\n",
    "2 2 3\n",
    "```\n",
    "\n",
    "Fill in the following function for computing `number_of_zeros`.  The axis  argument should control whether the operation is performed on columns or rows.\n",
    "\n",
    "In addition to writing the function, write code that tests its correctness, i.e. compares its output to a result you know is correct, returning True/False on whether it matches that correct output."
   ]
  },
  {
   "cell_type": "code",
   "execution_count": 381,
   "metadata": {},
   "outputs": [],
   "source": [
    "def number_of_zeros(X, axis = 0):\n",
    "    zeros = np.zeros(X.shape)\n",
    "    temp = X == 0\n",
    "    zeros[temp == True] = 1\n",
    "    \n",
    "    return np.sum(zeros, axis)\n",
    "\n",
    "def t_or_f(arr1, arr2):\n",
    "    return np.array_equal(arr1, arr2)"
   ]
  },
  {
   "cell_type": "code",
   "execution_count": 383,
   "metadata": {},
   "outputs": [
    {
     "name": "stdout",
     "output_type": "stream",
     "text": [
      "Test array:\n",
      " [[0 1 2 3]\n",
      " [4 0 5 0]\n",
      " [6 7 8 0]]\n",
      "\n",
      "Axis 0 result:  [1. 1. 0. 2.] ,  True \n",
      "Axis1 result:  [1. 2. 1.] ,  True\n"
     ]
    }
   ],
   "source": [
    "# test your code here\n",
    "# your testing should verify that the code works correctly, i.e.\n",
    "# will return a True/False on whether it matches a result you know\n",
    "# is correct\n",
    "test = np.array([[0,1,2,3],[4,0,5,0],[6,7,8,0]])\n",
    "axis0 = number_of_zeros(test)\n",
    "axis1 = number_of_zeros(test, 1)\n",
    "axis0_result = np.array([1,1,0,2], dtype=np.float64)\n",
    "axis1_result = np.array([1,2,1], dtype=np.float64)\n",
    "print(\"Test array:\\n\", test)\n",
    "print(\"\\nAxis 0 result: \", axis0_result, \", \", t_or_f(axis0, axis0_result), \n",
    "      \"\\nAxis1 result: \", axis1_result, \", \", t_or_f(axis1, axis1_result))"
   ]
  },
  {
   "cell_type": "markdown",
   "metadata": {},
   "source": [
    "### Removing sparse columns\n",
    "\n",
    "Write a function that removes sparse columns from a 2-d array.\n",
    "We will define a sparse column as a column that contains mostly zeros, and more specifically, the number of zeros is at least 90% of the entries in the column.  For example, if we apply this to the matrix\n",
    "\n",
    "```Python\n",
    "2 0 3 0\n",
    "0 0 1 5\n",
    "0 0 0 6\n",
    "```\n",
    "\n",
    "The second column would be removed.\n",
    "You can use the `number_of_zeros` function you just wrote to help you in this task.\n",
    "\n",
    "As in the previous problem, you also need to write code to test whether your function works correctly by comparing its output to a case where you know the correct solution."
   ]
  },
  {
   "cell_type": "code",
   "execution_count": 385,
   "metadata": {},
   "outputs": [],
   "source": [
    "def remove_sparse_columns(X):\n",
    "    temp = number_of_zeros(X)\n",
    "    temp[temp == 0] = True\n",
    "    temp[temp == len(X)] = False\n",
    "    temp = temp.astype(bool)\n",
    "    return X[:, temp]"
   ]
  },
  {
   "cell_type": "code",
   "execution_count": 387,
   "metadata": {},
   "outputs": [
    {
     "name": "stdout",
     "output_type": "stream",
     "text": [
      "Original array:\n",
      " [[0 1 2 0]\n",
      " [4 0 5 0]\n",
      " [6 7 8 0]] \n",
      "\n",
      "New array:\n",
      " [[0 1 2]\n",
      " [4 0 5]\n",
      " [6 7 8]]\n",
      "\n",
      "Removed result:  True\n"
     ]
    }
   ],
   "source": [
    "# test your code here\n",
    "# your testing should verify that the code works correctly, i.e.\n",
    "# will return a True/False on whether it matches a result you know\n",
    "# is correct\n",
    "\n",
    "sparse = np.array([[0,1,2,0],[4,0,5,0],[6,7,8,0]])\n",
    "sparse_result = np.array([[0,1,2],[4,0,5],[6,7,8]])\n",
    "removed = remove_sparse_columns(sparse)\n",
    "\n",
    "print(\"Original array:\\n\", sparse, \"\\n\\nNew array:\\n\", removed)\n",
    "print(\"\\nRemoved result: \", t_or_f(sparse_result, removed))"
   ]
  },
  {
   "cell_type": "markdown",
   "metadata": {},
   "source": [
    "### Replacing NaN's with zeros\n",
    "\n",
    "You are given a feature matrix that has some NaN values.  Write a function that creates a new matrix in which all the NaN values are replaced with zeros.\n"
   ]
  },
  {
   "cell_type": "code",
   "execution_count": 365,
   "metadata": {},
   "outputs": [],
   "source": [
    "# your code here\n",
    "def nan_to_zero(X):\n",
    "    new = X.copy()\n",
    "    new[np.isnan(new)] = 0\n",
    "    return new"
   ]
  },
  {
   "cell_type": "code",
   "execution_count": 379,
   "metadata": {},
   "outputs": [
    {
     "name": "stdout",
     "output_type": "stream",
     "text": [
      "Before NaN removal:\n",
      " [[ 1.  7.  6.  7. nan  6.  7.  7. nan nan]\n",
      " [ 3.  4. nan  3.  5.  7.  8. nan  3.  5.]\n",
      " [ 6.  4. nan  4.  5.  8.  8.  7.  1.  5.]\n",
      " [ 6.  3.  7.  7.  6.  5.  8.  5.  1.  7.]\n",
      " [ 4.  6.  7.  1.  5.  5.  8.  4.  7.  5.]\n",
      " [nan  5.  3.  7.  6. nan  5.  8.  1.  5.]\n",
      " [ 4.  4.  4. nan  1.  3. nan  1.  8.  6.]\n",
      " [nan nan  6.  5.  6.  5.  8.  1.  8.  1.]\n",
      " [ 3.  3.  3.  8.  1.  3.  7.  5.  3.  5.]\n",
      " [ 1. nan  4. nan  8.  8. nan  4.  7.  7.]] \n",
      "After NaN removal:\n",
      " [[1. 7. 6. 7. 0. 6. 7. 7. 0. 0.]\n",
      " [3. 4. 0. 3. 5. 7. 8. 0. 3. 5.]\n",
      " [6. 4. 0. 4. 5. 8. 8. 7. 1. 5.]\n",
      " [6. 3. 7. 7. 6. 5. 8. 5. 1. 7.]\n",
      " [4. 6. 7. 1. 5. 5. 8. 4. 7. 5.]\n",
      " [0. 5. 3. 7. 6. 0. 5. 8. 1. 5.]\n",
      " [4. 4. 4. 0. 1. 3. 0. 1. 8. 6.]\n",
      " [0. 0. 6. 5. 6. 5. 8. 1. 8. 1.]\n",
      " [3. 3. 3. 8. 1. 3. 7. 5. 3. 5.]\n",
      " [1. 0. 4. 0. 8. 8. 0. 4. 7. 7.]]\n"
     ]
    }
   ],
   "source": [
    "# write code that verifies that there are no NaN values in the matrix\n",
    "# returned by your function\n",
    "from numpy.random import default_rng\n",
    "rng = default_rng()  \n",
    "x = rng.integers(1,9, size=(10,10))\n",
    "x = np.where(x == rng.integers(1,9), np.nan, x)\n",
    "y = nan_to_zero(x)\n",
    "\n",
    "print(\"Before NaN removal:\\n\", x, \"\\nAfter NaN removal:\\n\", y)"
   ]
  },
  {
   "cell_type": "code",
   "execution_count": null,
   "metadata": {},
   "outputs": [],
   "source": []
  }
 ],
 "metadata": {
  "kernelspec": {
   "display_name": "Python 3 (ipykernel)",
   "language": "python",
   "name": "python3"
  },
  "language_info": {
   "codemirror_mode": {
    "name": "ipython",
    "version": 3
   },
   "file_extension": ".py",
   "mimetype": "text/x-python",
   "name": "python",
   "nbconvert_exporter": "python",
   "pygments_lexer": "ipython3",
   "version": "3.12.4"
  }
 },
 "nbformat": 4,
 "nbformat_minor": 4
}
