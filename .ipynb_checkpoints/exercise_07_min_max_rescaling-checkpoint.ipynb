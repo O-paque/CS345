{
 "cells": [
  {
   "cell_type": "markdown",
   "metadata": {},
   "source": [
    "# Exercise 07: min-max rescaling"
   ]
  },
  {
   "cell_type": "markdown",
   "metadata": {},
   "source": [
    "In all these exercises, **do not use for loops**!"
   ]
  },
  {
   "cell_type": "code",
   "execution_count": 6,
   "metadata": {},
   "outputs": [],
   "source": [
    "import numpy as np"
   ]
  },
  {
   "cell_type": "markdown",
   "metadata": {},
   "source": [
    "### Maximum over a two-dimensional array\n",
    "\n",
    "Create a $5 \\times 10$ array with random values between 0 and 1 and find the maximum values in the entire array, and in each column."
   ]
  },
  {
   "cell_type": "code",
   "execution_count": 8,
   "metadata": {},
   "outputs": [],
   "source": [
    "rng=np.random.default_rng()\n",
    "matrix = rng.standard_normal(size=(5,10))"
   ]
  },
  {
   "cell_type": "code",
   "execution_count": 9,
   "metadata": {},
   "outputs": [
    {
     "data": {
      "text/plain": [
       "(5, 10)"
      ]
     },
     "execution_count": 9,
     "metadata": {},
     "output_type": "execute_result"
    }
   ],
   "source": [
    "matrix.shape"
   ]
  },
  {
   "cell_type": "code",
   "execution_count": 10,
   "metadata": {},
   "outputs": [
    {
     "data": {
      "text/plain": [
       "array([[-1.3608749 , -0.92838531, -0.11649572, -0.11359308,  0.05363768,\n",
       "        -0.698791  , -0.44595841, -0.43077292,  0.47659475,  0.59378367],\n",
       "       [-0.36011793,  0.14535038, -0.37313602,  0.10205607, -1.47548951,\n",
       "        -0.1817305 , -1.32993637,  0.79639854, -1.1127516 , -0.47218979],\n",
       "       [-1.96444353, -1.06308574,  0.07254392, -0.3393981 , -0.56868536,\n",
       "        -0.84511469, -0.70112482, -0.00700473, -0.39889876,  1.21652935],\n",
       "       [ 1.27165839,  1.07684066, -0.32464196,  1.47468525, -1.77970883,\n",
       "         0.46947413,  0.86505409,  1.32423984,  1.07329553,  0.82109826],\n",
       "       [-0.44859313, -0.94088068,  0.72249984,  0.23502506, -1.00944078,\n",
       "         0.69056882,  0.86797307,  0.51075464, -0.09410202,  0.54526411]])"
      ]
     },
     "execution_count": 10,
     "metadata": {},
     "output_type": "execute_result"
    }
   ],
   "source": [
    "matrix"
   ]
  },
  {
   "cell_type": "code",
   "execution_count": 11,
   "metadata": {},
   "outputs": [],
   "source": [
    "# your code here"
   ]
  },
  {
   "cell_type": "markdown",
   "metadata": {},
   "source": [
    "### Data normalizaion / scaling\n",
    "\n",
    "Let's consider the problem of data normalization/scaling:  in statistics and machine learning it is often desirable to convert data to a specified range, for example scale the data so that the values fall between 0 and 1, which is called [min-max rescaling](https://en.wikipedia.org/wiki/Feature_scaling#Rescaling_(min-max_normalization).  \n",
    "Suppose you have a vector (or one dimensional array) of values `x`, then the min-max rescaled values are given by:\n",
    "$$\n",
    "x' = \\frac{x-\\min(x)}{\\max(x) - \\min(x)}\n",
    "$$\n",
    "For your exercise, first perform min-max rescaling over a one-dimensional array.  Next, assume you are given a two dimensional array, where you need to perform min-max rescaling **on each column separately**, i.e. apply the transformation above to each column separately. Test that your code works as expected (hint in a code cell below)!"
   ]
  },
  {
   "cell_type": "code",
   "execution_count": 51,
   "metadata": {},
   "outputs": [
    {
     "name": "stdout",
     "output_type": "stream",
     "text": [
      "OG:  [ 0.04188124 -0.05523691  0.60782092 -0.39069356  1.32761519 -0.83271958\n",
      " -0.67089547 -1.20189487  0.96299022  0.14979905 -1.49946371  0.17115899\n",
      "  1.52102294 -1.60787145  1.82826954  0.02778    -0.45177556 -0.23709308\n",
      "  1.14630751  0.87724737 -0.39876169 -1.36228155 -0.027765    0.23485108\n",
      " -1.72128953  0.87983126  1.11912424  1.24762875 -1.13763586 -0.69275982\n",
      " -1.27703893 -0.49926882  0.3520158  -0.07933556 -0.17553547  0.18854821\n",
      "  0.3043013   0.24824362 -0.00273901 -1.27834493 -0.36210163 -0.14766812\n",
      " -0.65029647 -0.36343768 -0.64890106  0.60711796 -1.19232109  0.53819289\n",
      "  0.22440515 -1.18408462]\n",
      "New:  [0.49672952 0.46936889 0.65616895 0.37486233 0.85895309 0.25033249\n",
      " 0.29592241 0.14632653 0.75622907 0.52713268 0.06249391 0.53315031\n",
      " 0.91344091 0.03195272 1.         0.49275684 0.35765399 0.41813544\n",
      " 0.80787416 0.73207315 0.37258933 0.10114157 0.47710842 0.55109397\n",
      " 0.         0.7328011  0.80021595 0.8364189  0.16442991 0.28976267\n",
      " 0.12515656 0.34427395 0.58410222 0.4625797  0.43547777 0.53804929\n",
      " 0.57065985 0.55486699 0.48415887 0.12478863 0.38291739 0.4433287\n",
      " 0.30172566 0.38254099 0.30211878 0.65597091 0.1490237  0.63655298\n",
      " 0.54815109 0.15134412]\n"
     ]
    }
   ],
   "source": [
    "rng=np.random.default_rng()\n",
    "\n",
    "# one dimensional array:\n",
    "x = rng.standard_normal(size=(50,))\n",
    "# code for min-max rescaling of an array (one line of code)\n",
    "print(\"OG: \", x)\n",
    "x = (x - x.min(axis=0))/(x.max(axis=0) - x.min(axis=0))\n",
    "print(\"New: \", x)\n",
    "X=rng.standard_normal(size=(50,3))\n",
    "# code for min-max rescaling of a 2-d array \n",
    "# can be done in one line of code \n",
    "# make sure you don't use for loops!\n",
    "print(\"OG: \", X)\n",
    "X = (X - X.min(axis=0)) / (X.max(axis=0) - X.min(axis=0))\n",
    "print(\"New: \", X)"
   ]
  },
  {
   "cell_type": "markdown",
   "metadata": {},
   "source": [
    "To evaluate your code for min-max rescaling compute the following (assuming that your rescaled matrix is stored in a variable named `X_rescaled`):\n",
    "\n",
    "```Python\n",
    "print(X_rescaled.min(axis=0))\n",
    "print(X_rescaled.max(axis=0))\n",
    "```\n",
    "What do you expect the output of these commands to be if you correctly performed min-max rescaling?"
   ]
  },
  {
   "cell_type": "code",
   "execution_count": 53,
   "metadata": {},
   "outputs": [
    {
     "name": "stdout",
     "output_type": "stream",
     "text": [
      "[0. 0. 0.]\n",
      "[1. 1. 1.]\n"
     ]
    }
   ],
   "source": [
    "# test your code here:\n",
    "print(X.min(axis=0))\n",
    "print(X.max(axis=0))"
   ]
  },
  {
   "cell_type": "code",
   "execution_count": null,
   "metadata": {},
   "outputs": [],
   "source": []
  }
 ],
 "metadata": {
  "kernelspec": {
   "display_name": "Python 3 (ipykernel)",
   "language": "python",
   "name": "python3"
  },
  "language_info": {
   "codemirror_mode": {
    "name": "ipython",
    "version": 3
   },
   "file_extension": ".py",
   "mimetype": "text/x-python",
   "name": "python",
   "nbconvert_exporter": "python",
   "pygments_lexer": "ipython3",
   "version": "3.12.4"
  }
 },
 "nbformat": 4,
 "nbformat_minor": 4
}
