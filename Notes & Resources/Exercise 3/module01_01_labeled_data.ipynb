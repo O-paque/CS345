{
 "cells": [
  {
   "cell_type": "markdown",
   "metadata": {},
   "source": [
    "*This notebook is part of  course materials for CS 345: Machine Learning Foundations and Practice at Colorado State University.\n",
    "Original versions were created by Asa Ben-Hur with updates by Ross Beveridge.\n",
    "The content is availabe [on GitHub](https://github.com/asabenhur/CS345).*\n",
    "\n",
    "*The text is released under the [CC BY-SA license](https://creativecommons.org/licenses/by-sa/4.0/), and code is released under the [MIT license](https://opensource.org/licenses/MIT).*"
   ]
  },
  {
   "cell_type": "markdown",
   "metadata": {},
   "source": [
    "<a href=\"https://colab.research.google.com/github//asabenhur/CS345/blob/master/fall24/notebooks/module01_01_labeled_data.ipynb\">\n",
    "  <img align=\"left\" src=\"https://colab.research.google.com/assets/colab-badge.svg\" alt=\"Open In Colab\"/>\n",
    "</a>"
   ]
  },
  {
   "cell_type": "markdown",
   "metadata": {
    "id": "E7D3EaByTPY2"
   },
   "source": [
    "# Learning with Labeled Data\n",
    "\n",
    "A large part of machine learning is focused upon the task of learning patterns from examples and then using the learned patterns to distinguish between types of objects, which we refer to as **classes**.  Here we introduce this idea using a classic example dataset of iris flowers."
   ]
  },
  {
   "cell_type": "code",
   "execution_count": 78,
   "metadata": {
    "colab": {
     "base_uri": "https://localhost:8080/",
     "height": 35
    },
    "executionInfo": {
     "elapsed": 715,
     "status": "ok",
     "timestamp": 1611250621499,
     "user": {
      "displayName": "Ross Beveridge",
      "photoUrl": "https://lh3.googleusercontent.com/a-/AOh14GhZ9yfcROZXIKThWciv5reom6aDm1Spt-r8JOsVNA=s64",
      "userId": "11748907218223072510"
     },
     "user_tz": 420
    },
    "id": "au9qV0iDTPY5",
    "outputId": "02b943f3-5bd2-4623-9f03-6dd2155500d8"
   },
   "outputs": [],
   "source": [
    "import numpy as np\n",
    "from matplotlib import pyplot as plt"
   ]
  },
  {
   "cell_type": "markdown",
   "metadata": {
    "id": "yWdqnn1mTPY6"
   },
   "source": [
    "### Labeled data\n",
    "\n",
    "A labeled dataset is a collection of vectors each with its associated label, that indicates which class it belongs to.  We demonstrate this concept with the **iris dataset**.\n",
    "This is a famous dataset collected by statistician and biologist Ronald Fisher in 1936. \n",
    "This dataset even has its own [wikipedia page](https://en.wikipedia.org/wiki/Iris_flower_data_set).\n",
    "\n",
    "The data contains measurments that describe three types of iris flowers:\n",
    "0) Iris setosa, 1) Iris virginica, and 2) Iris versicolor:\n",
    "\n",
    "<img style=\"padding: 10px; float:left;\" alt=\"Iris setosa in public domain\" src=\"https://upload.wikimedia.org/wikipedia/commons/8/86/Iris_setosa.JPG\" width=\"150\">\n",
    "<img style=\"padding: 10px; float:left;\" alt=\"Iris versicolor Danielle Langlois CC BY-SA 3.0\" src=\"https://upload.wikimedia.org/wikipedia/commons/4/41/Iris_versicolor_3.jpg\" width=\"150\">\n",
    "<img style=\"padding: 10px; float:left;\" alt=\"Iris virginica by Frank Mayfield CC BY-SA 2.0\" src=\"https://upload.wikimedia.org/wikipedia/commons/9/9f/Iris_virginica.jpg\" width=\"150\">\n",
    "\n"
   ]
  },
  {
   "cell_type": "markdown",
   "metadata": {},
   "source": [
    "### Importing data\n",
    "\n",
    "Once upon a time just getting access to data took effort. That is no longer the case.  There are several easy to use packages to aid people seeking to use and better understand machine learning.  The one we will study in depth throughout this semster is [scikit-learn](https://scikit-learn.org).\n",
    "\n",
    "Scikit-learn offers convenient functionality for reading in several datasets for demonstration purposes, including the iris dataset:"
   ]
  },
  {
   "cell_type": "code",
   "execution_count": 82,
   "metadata": {
    "colab": {
     "base_uri": "https://localhost:8080/"
    },
    "executionInfo": {
     "elapsed": 2116,
     "status": "ok",
     "timestamp": 1611250622909,
     "user": {
      "displayName": "Ross Beveridge",
      "photoUrl": "https://lh3.googleusercontent.com/a-/AOh14GhZ9yfcROZXIKThWciv5reom6aDm1Spt-r8JOsVNA=s64",
      "userId": "11748907218223072510"
     },
     "user_tz": 420
    },
    "id": "kihqOWPCTPY7",
    "outputId": "825f128e-8244-4661-dbfe-dd83cef19f47"
   },
   "outputs": [
    {
     "name": "stdout",
     "output_type": "stream",
     "text": [
      "(150, 4) (150,)\n"
     ]
    },
    {
     "ename": "NameError",
     "evalue": "name 'x' is not defined",
     "output_type": "error",
     "traceback": [
      "\u001b[1;31m---------------------------------------------------------------------------\u001b[0m",
      "\u001b[1;31mNameError\u001b[0m                                 Traceback (most recent call last)",
      "Cell \u001b[1;32mIn[82], line 7\u001b[0m\n\u001b[0;32m      5\u001b[0m y \u001b[38;5;241m=\u001b[39m iris\u001b[38;5;241m.\u001b[39mtarget   \u001b[38;5;66;03m# the labels\u001b[39;00m\n\u001b[0;32m      6\u001b[0m \u001b[38;5;28mprint\u001b[39m(X\u001b[38;5;241m.\u001b[39mshape, y\u001b[38;5;241m.\u001b[39mshape)\n\u001b[1;32m----> 7\u001b[0m x\n",
      "\u001b[1;31mNameError\u001b[0m: name 'x' is not defined"
     ]
    }
   ],
   "source": [
    "from sklearn import datasets\n",
    "iris = datasets.load_iris()\n",
    "\n",
    "X = iris.data     # the features that describe the data\n",
    "y = iris.target   # the labels\n",
    "print(X.shape, y.shape)\n",
    "x"
   ]
  },
  {
   "cell_type": "markdown",
   "metadata": {},
   "source": [
    "The matrix `X` contains the *feature vectors* that describe each iris flower, while the vector `y` contains the class labels, namely which type of flower.\n",
    "\n",
    "Each row of X provides the measurements corresponding to a specific iris flower:"
   ]
  },
  {
   "cell_type": "code",
   "execution_count": 13,
   "metadata": {},
   "outputs": [
    {
     "data": {
      "text/plain": [
       "array([5.1, 3.5, 1.4, 0.2])"
      ]
     },
     "execution_count": 13,
     "metadata": {},
     "output_type": "execute_result"
    }
   ],
   "source": [
    "X[0]"
   ]
  },
  {
   "cell_type": "markdown",
   "metadata": {},
   "source": [
    "The number of rows equals to the number iris plants represented in the data."
   ]
  },
  {
   "cell_type": "markdown",
   "metadata": {},
   "source": [
    "Note that the feature matrix and labels were returned as NumPy arrays:"
   ]
  },
  {
   "cell_type": "code",
   "execution_count": 16,
   "metadata": {},
   "outputs": [
    {
     "data": {
      "text/plain": [
       "numpy.ndarray"
      ]
     },
     "execution_count": 16,
     "metadata": {},
     "output_type": "execute_result"
    }
   ],
   "source": [
    "type(X)"
   ]
  },
  {
   "cell_type": "markdown",
   "metadata": {},
   "source": [
    "The following command prints the feature vectors for the first five iris flowers:"
   ]
  },
  {
   "cell_type": "code",
   "execution_count": 18,
   "metadata": {
    "colab": {
     "base_uri": "https://localhost:8080/"
    },
    "executionInfo": {
     "elapsed": 2110,
     "status": "ok",
     "timestamp": 1611250622909,
     "user": {
      "displayName": "Ross Beveridge",
      "photoUrl": "https://lh3.googleusercontent.com/a-/AOh14GhZ9yfcROZXIKThWciv5reom6aDm1Spt-r8JOsVNA=s64",
      "userId": "11748907218223072510"
     },
     "user_tz": 420
    },
    "id": "JqeeKC3xTPY7",
    "outputId": "fee5e48f-2390-4d35-a3b3-98ab87241731"
   },
   "outputs": [
    {
     "name": "stdout",
     "output_type": "stream",
     "text": [
      "[[5.1 3.5 1.4 0.2]\n",
      " [4.9 3.  1.4 0.2]\n",
      " [4.7 3.2 1.3 0.2]\n",
      " [4.6 3.1 1.5 0.2]\n",
      " [5.  3.6 1.4 0.2]]\n"
     ]
    }
   ],
   "source": [
    "print (X[:5])"
   ]
  },
  {
   "cell_type": "markdown",
   "metadata": {
    "id": "mNOAP5kjTPY8"
   },
   "source": [
    "We can obtain the names of the features:"
   ]
  },
  {
   "cell_type": "code",
   "execution_count": 20,
   "metadata": {
    "colab": {
     "base_uri": "https://localhost:8080/"
    },
    "executionInfo": {
     "elapsed": 2097,
     "status": "ok",
     "timestamp": 1611250622910,
     "user": {
      "displayName": "Ross Beveridge",
      "photoUrl": "https://lh3.googleusercontent.com/a-/AOh14GhZ9yfcROZXIKThWciv5reom6aDm1Spt-r8JOsVNA=s64",
      "userId": "11748907218223072510"
     },
     "user_tz": 420
    },
    "id": "50K-Dgo4TPY9",
    "outputId": "e52c3bf4-1c3b-4937-ae4f-0775671297d2"
   },
   "outputs": [
    {
     "data": {
      "text/plain": [
       "['sepal length (cm)',\n",
       " 'sepal width (cm)',\n",
       " 'petal length (cm)',\n",
       " 'petal width (cm)']"
      ]
     },
     "execution_count": 20,
     "metadata": {},
     "output_type": "execute_result"
    }
   ],
   "source": [
    "iris.feature_names"
   ]
  },
  {
   "cell_type": "markdown",
   "metadata": {},
   "source": [
    "Here's a picture that illustrates a flower's petals/sepals:\n",
    "\n",
    "<img style=\"padding: 10px; float:center;\" alt=\"Photograph made in Hawai'i by Eric Guinther (Marshman at en.wikipedia) and released under the GNU Free Documentation License.\" src=\"https://upload.wikimedia.org/wikipedia/commons/7/78/Petal-sepal.jpg\" width=\"250\">"
   ]
  },
  {
   "cell_type": "markdown",
   "metadata": {},
   "source": [
    "Here are the labels of the first five examples:"
   ]
  },
  {
   "cell_type": "code",
   "execution_count": 23,
   "metadata": {
    "colab": {
     "base_uri": "https://localhost:8080/"
    },
    "executionInfo": {
     "elapsed": 2104,
     "status": "ok",
     "timestamp": 1611250622910,
     "user": {
      "displayName": "Ross Beveridge",
      "photoUrl": "https://lh3.googleusercontent.com/a-/AOh14GhZ9yfcROZXIKThWciv5reom6aDm1Spt-r8JOsVNA=s64",
      "userId": "11748907218223072510"
     },
     "user_tz": 420
    },
    "id": "aN5EydRgTPY8",
    "outputId": "7d11832e-0c64-4178-94fb-a56024c58c86"
   },
   "outputs": [
    {
     "data": {
      "text/plain": [
       "array([0, 0, 0, 0, 0])"
      ]
     },
     "execution_count": 23,
     "metadata": {},
     "output_type": "execute_result"
    }
   ],
   "source": [
    "y[:5]"
   ]
  },
  {
   "cell_type": "code",
   "execution_count": 24,
   "metadata": {},
   "outputs": [
    {
     "data": {
      "text/plain": [
       "array([0, 1, 2])"
      ]
     },
     "execution_count": 24,
     "metadata": {},
     "output_type": "execute_result"
    }
   ],
   "source": [
    "np.unique(y)"
   ]
  },
  {
   "cell_type": "markdown",
   "metadata": {
    "id": "oYJ9SGYxTPY-"
   },
   "source": [
    "The class labels have been mapped to integers; here are the original class names:"
   ]
  },
  {
   "cell_type": "code",
   "execution_count": 26,
   "metadata": {
    "colab": {
     "base_uri": "https://localhost:8080/"
    },
    "executionInfo": {
     "elapsed": 2087,
     "status": "ok",
     "timestamp": 1611250622911,
     "user": {
      "displayName": "Ross Beveridge",
      "photoUrl": "https://lh3.googleusercontent.com/a-/AOh14GhZ9yfcROZXIKThWciv5reom6aDm1Spt-r8JOsVNA=s64",
      "userId": "11748907218223072510"
     },
     "user_tz": 420
    },
    "id": "2HbhHXgNTPY-",
    "outputId": "fcd59e63-2446-469a-f3da-e96dca3112e3"
   },
   "outputs": [
    {
     "data": {
      "text/plain": [
       "array(['setosa', 'versicolor', 'virginica'], dtype='<U10')"
      ]
     },
     "execution_count": 26,
     "metadata": {},
     "output_type": "execute_result"
    }
   ],
   "source": [
    "iris.target_names"
   ]
  },
  {
   "cell_type": "markdown",
   "metadata": {},
   "source": [
    "So, a flower with a label `0` is an iris-setosa."
   ]
  },
  {
   "cell_type": "markdown",
   "metadata": {
    "id": "kNA7SnjhBPEO"
   },
   "source": [
    "### Understanding the data with scatter plots and histograms\n",
    "\n",
    "Python is rich with options for exploring data visually.  For this task, we will use [Seaborn](https://seaborn.pydata.org/index.html) which is built on top of Matplotlib, NumPy, and pandas."
   ]
  },
  {
   "cell_type": "code",
   "execution_count": 76,
   "metadata": {
    "colab": {
     "base_uri": "https://localhost:8080/",
     "height": 586
    },
    "executionInfo": {
     "elapsed": 10988,
     "status": "ok",
     "timestamp": 1611250631818,
     "user": {
      "displayName": "Ross Beveridge",
      "photoUrl": "https://lh3.googleusercontent.com/a-/AOh14GhZ9yfcROZXIKThWciv5reom6aDm1Spt-r8JOsVNA=s64",
      "userId": "11748907218223072510"
     },
     "user_tz": 420
    },
    "id": "XW_1sz9UTPY-",
    "outputId": "244a4693-020b-4ce9-ad04-4f33787e9d3e"
   },
   "outputs": [
    {
     "ename": "ValueError",
     "evalue": "Shape of passed values is (100, 2), indices imply (100, 4)",
     "output_type": "error",
     "traceback": [
      "\u001b[1;31m---------------------------------------------------------------------------\u001b[0m",
      "\u001b[1;31mValueError\u001b[0m                                Traceback (most recent call last)",
      "Cell \u001b[1;32mIn[76], line 3\u001b[0m\n\u001b[0;32m      1\u001b[0m \u001b[38;5;28;01mimport\u001b[39;00m \u001b[38;5;21;01mseaborn\u001b[39;00m \u001b[38;5;28;01mas\u001b[39;00m \u001b[38;5;21;01msns\u001b[39;00m\n\u001b[0;32m      2\u001b[0m \u001b[38;5;28;01mimport\u001b[39;00m \u001b[38;5;21;01mpandas\u001b[39;00m \u001b[38;5;28;01mas\u001b[39;00m \u001b[38;5;21;01mpd\u001b[39;00m\n\u001b[1;32m----> 3\u001b[0m iris_df \u001b[38;5;241m=\u001b[39m pd\u001b[38;5;241m.\u001b[39mDataFrame(X, columns\u001b[38;5;241m=\u001b[39miris\u001b[38;5;241m.\u001b[39mfeature_names)\n\u001b[0;32m      4\u001b[0m iris_df[\u001b[38;5;124m'\u001b[39m\u001b[38;5;124my\u001b[39m\u001b[38;5;124m'\u001b[39m] \u001b[38;5;241m=\u001b[39m np\u001b[38;5;241m.\u001b[39marray([iris\u001b[38;5;241m.\u001b[39mtarget_names[i] \u001b[38;5;28;01mfor\u001b[39;00m i \u001b[38;5;129;01min\u001b[39;00m iris\u001b[38;5;241m.\u001b[39mtarget])\n\u001b[0;32m      5\u001b[0m sns\u001b[38;5;241m.\u001b[39mpairplot(iris_df, hue\u001b[38;5;241m=\u001b[39m\u001b[38;5;124m'\u001b[39m\u001b[38;5;124my\u001b[39m\u001b[38;5;124m'\u001b[39m)\n",
      "File \u001b[1;32m~\\anaconda3\\Lib\\site-packages\\pandas\\core\\frame.py:827\u001b[0m, in \u001b[0;36mDataFrame.__init__\u001b[1;34m(self, data, index, columns, dtype, copy)\u001b[0m\n\u001b[0;32m    816\u001b[0m         mgr \u001b[38;5;241m=\u001b[39m dict_to_mgr(\n\u001b[0;32m    817\u001b[0m             \u001b[38;5;66;03m# error: Item \"ndarray\" of \"Union[ndarray, Series, Index]\" has no\u001b[39;00m\n\u001b[0;32m    818\u001b[0m             \u001b[38;5;66;03m# attribute \"name\"\u001b[39;00m\n\u001b[1;32m   (...)\u001b[0m\n\u001b[0;32m    824\u001b[0m             copy\u001b[38;5;241m=\u001b[39m_copy,\n\u001b[0;32m    825\u001b[0m         )\n\u001b[0;32m    826\u001b[0m     \u001b[38;5;28;01melse\u001b[39;00m:\n\u001b[1;32m--> 827\u001b[0m         mgr \u001b[38;5;241m=\u001b[39m ndarray_to_mgr(\n\u001b[0;32m    828\u001b[0m             data,\n\u001b[0;32m    829\u001b[0m             index,\n\u001b[0;32m    830\u001b[0m             columns,\n\u001b[0;32m    831\u001b[0m             dtype\u001b[38;5;241m=\u001b[39mdtype,\n\u001b[0;32m    832\u001b[0m             copy\u001b[38;5;241m=\u001b[39mcopy,\n\u001b[0;32m    833\u001b[0m             typ\u001b[38;5;241m=\u001b[39mmanager,\n\u001b[0;32m    834\u001b[0m         )\n\u001b[0;32m    836\u001b[0m \u001b[38;5;66;03m# For data is list-like, or Iterable (will consume into list)\u001b[39;00m\n\u001b[0;32m    837\u001b[0m \u001b[38;5;28;01melif\u001b[39;00m is_list_like(data):\n",
      "File \u001b[1;32m~\\anaconda3\\Lib\\site-packages\\pandas\\core\\internals\\construction.py:336\u001b[0m, in \u001b[0;36mndarray_to_mgr\u001b[1;34m(values, index, columns, dtype, copy, typ)\u001b[0m\n\u001b[0;32m    331\u001b[0m \u001b[38;5;66;03m# _prep_ndarraylike ensures that values.ndim == 2 at this point\u001b[39;00m\n\u001b[0;32m    332\u001b[0m index, columns \u001b[38;5;241m=\u001b[39m _get_axes(\n\u001b[0;32m    333\u001b[0m     values\u001b[38;5;241m.\u001b[39mshape[\u001b[38;5;241m0\u001b[39m], values\u001b[38;5;241m.\u001b[39mshape[\u001b[38;5;241m1\u001b[39m], index\u001b[38;5;241m=\u001b[39mindex, columns\u001b[38;5;241m=\u001b[39mcolumns\n\u001b[0;32m    334\u001b[0m )\n\u001b[1;32m--> 336\u001b[0m _check_values_indices_shape_match(values, index, columns)\n\u001b[0;32m    338\u001b[0m \u001b[38;5;28;01mif\u001b[39;00m typ \u001b[38;5;241m==\u001b[39m \u001b[38;5;124m\"\u001b[39m\u001b[38;5;124marray\u001b[39m\u001b[38;5;124m\"\u001b[39m:\n\u001b[0;32m    339\u001b[0m     \u001b[38;5;28;01mif\u001b[39;00m \u001b[38;5;28missubclass\u001b[39m(values\u001b[38;5;241m.\u001b[39mdtype\u001b[38;5;241m.\u001b[39mtype, \u001b[38;5;28mstr\u001b[39m):\n",
      "File \u001b[1;32m~\\anaconda3\\Lib\\site-packages\\pandas\\core\\internals\\construction.py:420\u001b[0m, in \u001b[0;36m_check_values_indices_shape_match\u001b[1;34m(values, index, columns)\u001b[0m\n\u001b[0;32m    418\u001b[0m passed \u001b[38;5;241m=\u001b[39m values\u001b[38;5;241m.\u001b[39mshape\n\u001b[0;32m    419\u001b[0m implied \u001b[38;5;241m=\u001b[39m (\u001b[38;5;28mlen\u001b[39m(index), \u001b[38;5;28mlen\u001b[39m(columns))\n\u001b[1;32m--> 420\u001b[0m \u001b[38;5;28;01mraise\u001b[39;00m \u001b[38;5;167;01mValueError\u001b[39;00m(\u001b[38;5;124mf\u001b[39m\u001b[38;5;124m\"\u001b[39m\u001b[38;5;124mShape of passed values is \u001b[39m\u001b[38;5;132;01m{\u001b[39;00mpassed\u001b[38;5;132;01m}\u001b[39;00m\u001b[38;5;124m, indices imply \u001b[39m\u001b[38;5;132;01m{\u001b[39;00mimplied\u001b[38;5;132;01m}\u001b[39;00m\u001b[38;5;124m\"\u001b[39m)\n",
      "\u001b[1;31mValueError\u001b[0m: Shape of passed values is (100, 2), indices imply (100, 4)"
     ]
    }
   ],
   "source": [
    "import seaborn as sns\n",
    "import pandas as pd\n",
    "iris_df = pd.DataFrame(X, columns=iris.feature_names)\n",
    "iris_df['y'] = np.array([iris.target_names[i] for i in iris.target])\n",
    "sns.pairplot(iris_df, hue='y');"
   ]
  },
  {
   "cell_type": "markdown",
   "metadata": {
    "id": "KcAHvhVhTPY_"
   },
   "source": [
    "#### Reflection:\n",
    "\n",
    "* Does the data seem to be useful for the classification task of distinguishing between iris species?\n",
    "* Which features are most informative?  Are petal measurments more relevant than information on sepal leaves?"
   ]
  },
  {
   "cell_type": "markdown",
   "metadata": {
    "id": "gbF74TH6TPY_"
   },
   "source": [
    "### Labeled data defined\n",
    "\n",
    "Let us now define a *labeled dataset* more formally as a collection of *labeled examples*:\n",
    "\n",
    "$$\n",
    "\\left( \\;(\\mathbf{x}_1, y_1),\\; (\\mathbf{x}_2, y_2),\\ldots,(\\mathbf{x}_N, y_N) \\;\\right)\n",
    "$$\n",
    "\n",
    "where $\\mathbf{x}_i$ is a $d$ dimensional *feature vector* and $y_i$ is the label associated with $\\mathbf{x}_i$.\n",
    "\n",
    "For *classification problems* the labels are a discrete set, e.g. $\\{0, 1 \\}$ for a binary classification problem.\n",
    "For *regression problems* the labels are continuous.\n",
    "\n",
    "As we saw above, we will represent the collection of feature vectors as a matrix $X$, where row $i$ of $X$ contains $\\mathbf{x}_i$.  In other words $X$ is an $N \\times d$ matrix.\n",
    "\n",
    "#### Exercise\n",
    "\n",
    "* Give an example of a classification problem.\n",
    "* Give an example of a regression problem."
   ]
  },
  {
   "cell_type": "markdown",
   "metadata": {
    "id": "wgr8EIp2TPY_"
   },
   "source": [
    "#### Learning from labeled data\n",
    "\n",
    "Using labeled data our objective is to train a classifier that will accurately predict the class label $y$ of an object given features $\\mathbf{x}$ that characterize it."
   ]
  },
  {
   "cell_type": "markdown",
   "metadata": {},
   "source": [
    "#### Question\n",
    "\n",
    "Consider the following data matrices:"
   ]
  },
  {
   "cell_type": "code",
   "execution_count": 34,
   "metadata": {},
   "outputs": [],
   "source": [
    "X_orig = np.array([[5, 2, 8, 5], [4, 2, 9, 8]])\n",
    "X_add = np.array([[4, 8, 5, 4], [3, 1, 5, 8]])"
   ]
  },
  {
   "cell_type": "code",
   "execution_count": 35,
   "metadata": {},
   "outputs": [
    {
     "data": {
      "text/plain": [
       "array([[5, 2, 8, 5],\n",
       "       [4, 2, 9, 8]])"
      ]
     },
     "execution_count": 35,
     "metadata": {},
     "output_type": "execute_result"
    }
   ],
   "source": [
    "X_orig"
   ]
  },
  {
   "cell_type": "code",
   "execution_count": 36,
   "metadata": {},
   "outputs": [
    {
     "data": {
      "text/plain": [
       "array([[4, 8, 5, 4],\n",
       "       [3, 1, 5, 8]])"
      ]
     },
     "execution_count": 36,
     "metadata": {},
     "output_type": "execute_result"
    }
   ],
   "source": [
    "X_add"
   ]
  },
  {
   "cell_type": "code",
   "execution_count": 37,
   "metadata": {},
   "outputs": [
    {
     "data": {
      "text/plain": [
       "array([[5, 2, 8, 5, 4, 8, 5, 4],\n",
       "       [4, 2, 9, 8, 3, 1, 5, 8]])"
      ]
     },
     "execution_count": 37,
     "metadata": {},
     "output_type": "execute_result"
    }
   ],
   "source": [
    "X = np.hstack([X_orig, X_add])\n",
    "X"
   ]
  },
  {
   "cell_type": "markdown",
   "metadata": {},
   "source": [
    "In the code above, did we add features or examples to our data?\n"
   ]
  },
  {
   "cell_type": "code",
   "execution_count": 39,
   "metadata": {},
   "outputs": [
    {
     "data": {
      "text/plain": [
       "array([[5, 2, 8, 5],\n",
       "       [4, 2, 9, 8],\n",
       "       [4, 8, 5, 4],\n",
       "       [3, 1, 5, 8]])"
      ]
     },
     "execution_count": 39,
     "metadata": {},
     "output_type": "execute_result"
    }
   ],
   "source": [
    "X = np.vstack([X_orig, X_add])\n",
    "X"
   ]
  },
  {
   "cell_type": "markdown",
   "metadata": {},
   "source": [
    "In this case, did we add features or examples to our data?"
   ]
  },
  {
   "cell_type": "markdown",
   "metadata": {},
   "source": [
    "### A simple classification problem\n",
    "\n",
    "Let's create a simple classification problem with feature vectors in two dimensions:"
   ]
  },
  {
   "cell_type": "code",
   "execution_count": 42,
   "metadata": {
    "executionInfo": {
     "elapsed": 10988,
     "status": "ok",
     "timestamp": 1611250631819,
     "user": {
      "displayName": "Ross Beveridge",
      "photoUrl": "https://lh3.googleusercontent.com/a-/AOh14GhZ9yfcROZXIKThWciv5reom6aDm1Spt-r8JOsVNA=s64",
      "userId": "11748907218223072510"
     },
     "user_tz": 420
    },
    "id": "oVNanrnyTPY_"
   },
   "outputs": [],
   "source": [
    "from sklearn.datasets import make_classification\n",
    "X,y = make_classification(n_samples=100, n_features=2, n_informative=2, \n",
    "                          n_redundant=0, n_repeated=0, \n",
    "                          n_classes=2, n_clusters_per_class=1, \n",
    "                          class_sep=0.4, random_state=1)"
   ]
  },
  {
   "cell_type": "markdown",
   "metadata": {
    "id": "1u2Jix2fBPER"
   },
   "source": [
    "Here we used scikit-learn functionality to produce \"toy\" datasets using [make_classification](https://scikit-learn.org/stable/modules/generated/sklearn.datasets.make_classification.html).  Such toy datasets are useful for illustrating the workings of ML algorithms.\n",
    "\n",
    "Now let's examine the data:"
   ]
  },
  {
   "cell_type": "code",
   "execution_count": 44,
   "metadata": {
    "colab": {
     "base_uri": "https://localhost:8080/"
    },
    "executionInfo": {
     "elapsed": 10983,
     "status": "ok",
     "timestamp": 1611250631819,
     "user": {
      "displayName": "Ross Beveridge",
      "photoUrl": "https://lh3.googleusercontent.com/a-/AOh14GhZ9yfcROZXIKThWciv5reom6aDm1Spt-r8JOsVNA=s64",
      "userId": "11748907218223072510"
     },
     "user_tz": 420
    },
    "id": "FdQ1pvi6TPZA",
    "outputId": "fef39594-5274-4102-fb9d-b412ffaa5058"
   },
   "outputs": [
    {
     "data": {
      "text/plain": [
       "((100, 2), (100,))"
      ]
     },
     "execution_count": 44,
     "metadata": {},
     "output_type": "execute_result"
    }
   ],
   "source": [
    "X.shape, y.shape"
   ]
  },
  {
   "cell_type": "code",
   "execution_count": 45,
   "metadata": {},
   "outputs": [
    {
     "data": {
      "text/plain": [
       "array([0, 1])"
      ]
     },
     "execution_count": 45,
     "metadata": {},
     "output_type": "execute_result"
    }
   ],
   "source": [
    "np.unique(y)"
   ]
  },
  {
   "cell_type": "code",
   "execution_count": 46,
   "metadata": {
    "colab": {
     "base_uri": "https://localhost:8080/",
     "height": 266
    },
    "executionInfo": {
     "elapsed": 10978,
     "status": "ok",
     "timestamp": 1611250631820,
     "user": {
      "displayName": "Ross Beveridge",
      "photoUrl": "https://lh3.googleusercontent.com/a-/AOh14GhZ9yfcROZXIKThWciv5reom6aDm1Spt-r8JOsVNA=s64",
      "userId": "11748907218223072510"
     },
     "user_tz": 420
    },
    "id": "Jk2K1T8hTPZA",
    "outputId": "8db998a3-1cdd-4256-da8e-e5c1fe1fbc63"
   },
   "outputs": [
    {
     "data": {
      "image/png": "[encoded data removed]",
      "text/plain": [
       "<Figure size 640x480 with 1 Axes>"
      ]
     },
     "metadata": {},
     "output_type": "display_data"
    }
   ],
   "source": [
    "plt.scatter(X[:,0], X[:,1], c=y, alpha=0.7, s=50, cmap='coolwarm');"
   ]
  },
  {
   "cell_type": "markdown",
   "metadata": {
    "id": "eTqEveC7BPES"
   },
   "source": [
    "In this [scatterplot](https://matplotlib.org/3.3.3/api/_as_gen/matplotlib.pyplot.scatter.html), note the use of a specific [color map](https://matplotlib.org/3.1.0/tutorials/colors/colormaps.html) instead of the default and also [alpha blending](https://en.wikipedia.org/wiki/Alpha_compositing), which controls the transparency of the blobs.  \n",
    "\n",
    "Based on this scatterplot we might heuristically decide on a rule to classify our datapoints based on the value of the first feature:"
   ]
  },
  {
   "cell_type": "code",
   "execution_count": 48,
   "metadata": {
    "colab": {
     "base_uri": "https://localhost:8080/",
     "height": 266
    },
    "executionInfo": {
     "elapsed": 10972,
     "status": "ok",
     "timestamp": 1611250631820,
     "user": {
      "displayName": "Ross Beveridge",
      "photoUrl": "https://lh3.googleusercontent.com/a-/AOh14GhZ9yfcROZXIKThWciv5reom6aDm1Spt-r8JOsVNA=s64",
      "userId": "11748907218223072510"
     },
     "user_tz": 420
    },
    "id": "N1sXRKQMBPES",
    "outputId": "41c6ebe9-945e-47be-8aaa-701b0623221c"
   },
   "outputs": [
    {
     "data": {
      "image/png": "[encoded data removed]",
      "text/plain": [
       "<Figure size 640x480 with 1 Axes>"
      ]
     },
     "metadata": {},
     "output_type": "display_data"
    }
   ],
   "source": [
    "plt.scatter(X[:,0], X[:,1], c=y, alpha=0.7, s=50, cmap='coolwarm')\n",
    "plt.plot([0.05, 0.05], [-0.5, 1.5], linewidth=32, alpha=0.25, linestyle='-',color='k');"
   ]
  },
  {
   "cell_type": "markdown",
   "metadata": {
    "id": "ZE8kcBxuTPZB"
   },
   "source": [
    "### What can we conclude ?\n",
    "\n",
    "Looking at this data, we might conclude that a good classification rule would be based on the value of the first feature, and whether it is larger than some threshold (say 0).  Some questions remain:\n",
    "\n",
    "* How well do we expect this rule to perform on new unseen data?\n",
    "* How to algorithmically decide on a rule that is expected to perform well?\n",
    "\n",
    "This is exactly what we will do in this course:  *design algorithms that generalize well to unseen data, and determine how close we are to this goal*."
   ]
  },
  {
   "cell_type": "markdown",
   "metadata": {
    "id": "BIrDXtHaTPZB"
   },
   "source": [
    "### Classification, regression, and beyond \n",
    "\n",
    "In this course we will address the following forms of learning problems:\n",
    "\n",
    "<img style=\"padding: 10px; float:right;\" alt=\"linear regression in public domain\" src=\"https://upload.wikimedia.org/wikipedia/commons/3/3a/Linear_regression.svg\" width=\"250\">\n",
    "\n",
    "* **Classification:**  discrete/categorical labels\n",
    "* **Regression:**  continuous labels\n",
    "* **Clustering:**  no labels \n",
    "\n",
    "Classification and regression are forms of *supervised learning*, where we learn to predict a desired output on the basis of labeled examples.\n",
    "Clustering is an example of *unsupervised learning*.  Unsupervised learning is often a preliminary step before applying supervised learning, where we create an internal representation of the input e.g. form clusters; extract features etc.\n"
   ]
  },
  {
   "cell_type": "markdown",
   "metadata": {
    "id": "rPeRfPK1TPZB"
   },
   "source": [
    "### What kinds of problems are amenable for a machine learning solution?\n",
    "\n",
    "Which of the following problems are suited for machine learning?\n",
    "\n",
    "* Classifying numbers into primes and non-primes. \n",
    "* Predicting the time it would take a falling object to hit the ground. \n",
    "* Determining the optimal cycle for traffic lights in a busy intersection. \n",
    "* Medical diagnosis\n"
   ]
  },
  {
   "cell_type": "markdown",
   "metadata": {
    "id": "MVyOUTDLTPZB"
   },
   "source": [
    "### Formulating classification problems\n",
    "\n",
    "When trying to address a classification problem we explore and hope to discover and use relationships between feature vectors and their labels.  As machine learning engineers, one of our tasks is to decide what information to collect for our feature vectors.  The better the features we collect, the better the resulting accuracy!\n",
    "\n",
    "As an example let's consider the problem of deciding on whether to approve an applicant for credit or a loan.  What features would you collect?"
   ]
  },
  {
   "cell_type": "markdown",
   "metadata": {
    "id": "XlIGs1csTPZC"
   },
   "source": [
    "*Features for the credit approval problem:*\n",
    "\n",
    "* Age\n",
    "* ..."
   ]
  }
 ],
 "metadata": {
  "colab": {
   "collapsed_sections": [],
   "name": "module01_02_labeled_data.ipynb",
   "provenance": []
  },
  "kernelspec": {
   "display_name": "Python 3 (ipykernel)",
   "language": "python",
   "name": "python3"
  },
  "language_info": {
   "codemirror_mode": {
    "name": "ipython",
    "version": 3
   },
   "file_extension": ".py",
   "mimetype": "text/x-python",
   "name": "python",
   "nbconvert_exporter": "python",
   "pygments_lexer": "ipython3",
   "version": "3.12.4"
  }
 },
 "nbformat": 4,
 "nbformat_minor": 4
}
